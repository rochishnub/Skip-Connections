{
  "nbformat": 4,
  "nbformat_minor": 2,
  "metadata": {
    "colab": {
      "name": "Deep_Learning_Assignment1.ipynb",
      "provenance": [],
      "collapsed_sections": [],
      "toc_visible": true,
      "machine_shape": "hm"
    },
    "kernelspec": {
      "name": "python3",
      "display_name": "Python 3.9.5 64-bit"
    },
    "language_info": {
      "codemirror_mode": {
        "name": "ipython",
        "version": 3
      },
      "file_extension": ".py",
      "mimetype": "text/x-python",
      "name": "python",
      "nbconvert_exporter": "python",
      "pygments_lexer": "ipython3",
      "version": "3.9.5"
    },
    "accelerator": "GPU",
    "widgets": {
      "application/vnd.jupyter.widget-state+json": {
        "123305d877614284954166b558716814": {
          "model_module": "@jupyter-widgets/controls",
          "model_name": "HBoxModel",
          "model_module_version": "1.5.0",
          "state": {
            "_view_name": "HBoxView",
            "_dom_classes": [],
            "_model_name": "HBoxModel",
            "_view_module": "@jupyter-widgets/controls",
            "_model_module_version": "1.5.0",
            "_view_count": null,
            "_view_module_version": "1.5.0",
            "box_style": "",
            "layout": "IPY_MODEL_36aabb2af44d4bcbb93f704a6c296965",
            "_model_module": "@jupyter-widgets/controls",
            "children": [
              "IPY_MODEL_03073d227c3645f4976d5eb0a62dfee5",
              "IPY_MODEL_e4a2bf1c367744ff98dc4f35fb9e6321",
              "IPY_MODEL_11ef2000edb1403281c1bf6885586c71"
            ]
          }
        },
        "36aabb2af44d4bcbb93f704a6c296965": {
          "model_module": "@jupyter-widgets/base",
          "model_name": "LayoutModel",
          "model_module_version": "1.2.0",
          "state": {
            "_view_name": "LayoutView",
            "grid_template_rows": null,
            "right": null,
            "justify_content": null,
            "_view_module": "@jupyter-widgets/base",
            "overflow": null,
            "_model_module_version": "1.2.0",
            "_view_count": null,
            "flex_flow": null,
            "width": null,
            "min_width": null,
            "border": null,
            "align_items": null,
            "bottom": null,
            "_model_module": "@jupyter-widgets/base",
            "top": null,
            "grid_column": null,
            "overflow_y": null,
            "overflow_x": null,
            "grid_auto_flow": null,
            "grid_area": null,
            "grid_template_columns": null,
            "flex": null,
            "_model_name": "LayoutModel",
            "justify_items": null,
            "grid_row": null,
            "max_height": null,
            "align_content": null,
            "visibility": null,
            "align_self": null,
            "height": null,
            "min_height": null,
            "padding": null,
            "grid_auto_rows": null,
            "grid_gap": null,
            "max_width": null,
            "order": null,
            "_view_module_version": "1.2.0",
            "grid_template_areas": null,
            "object_position": null,
            "object_fit": null,
            "grid_auto_columns": null,
            "margin": null,
            "display": null,
            "left": null
          }
        },
        "03073d227c3645f4976d5eb0a62dfee5": {
          "model_module": "@jupyter-widgets/controls",
          "model_name": "HTMLModel",
          "model_module_version": "1.5.0",
          "state": {
            "_view_name": "HTMLView",
            "style": "IPY_MODEL_2195b1bfdcac4a8792ae61622f524a23",
            "_dom_classes": [],
            "description": "",
            "_model_name": "HTMLModel",
            "placeholder": "​",
            "_view_module": "@jupyter-widgets/controls",
            "_model_module_version": "1.5.0",
            "value": "",
            "_view_count": null,
            "_view_module_version": "1.5.0",
            "description_tooltip": null,
            "_model_module": "@jupyter-widgets/controls",
            "layout": "IPY_MODEL_caf5dc5f697c44b8bd72cd7837f7dae2"
          }
        },
        "e4a2bf1c367744ff98dc4f35fb9e6321": {
          "model_module": "@jupyter-widgets/controls",
          "model_name": "FloatProgressModel",
          "model_module_version": "1.5.0",
          "state": {
            "_view_name": "ProgressView",
            "style": "IPY_MODEL_3a9afadff163434eb486e4406e8a7e5c",
            "_dom_classes": [],
            "description": "",
            "_model_name": "FloatProgressModel",
            "bar_style": "success",
            "max": 9912422,
            "_view_module": "@jupyter-widgets/controls",
            "_model_module_version": "1.5.0",
            "value": 9912422,
            "_view_count": null,
            "_view_module_version": "1.5.0",
            "orientation": "horizontal",
            "min": 0,
            "description_tooltip": null,
            "_model_module": "@jupyter-widgets/controls",
            "layout": "IPY_MODEL_dfd01484dd7a46168b512b4730ccf655"
          }
        },
        "11ef2000edb1403281c1bf6885586c71": {
          "model_module": "@jupyter-widgets/controls",
          "model_name": "HTMLModel",
          "model_module_version": "1.5.0",
          "state": {
            "_view_name": "HTMLView",
            "style": "IPY_MODEL_9b0c6abefee54bbabf4cbddfbb25b1e5",
            "_dom_classes": [],
            "description": "",
            "_model_name": "HTMLModel",
            "placeholder": "​",
            "_view_module": "@jupyter-widgets/controls",
            "_model_module_version": "1.5.0",
            "value": " 9913344/? [00:00&lt;00:00, 23785727.98it/s]",
            "_view_count": null,
            "_view_module_version": "1.5.0",
            "description_tooltip": null,
            "_model_module": "@jupyter-widgets/controls",
            "layout": "IPY_MODEL_f81ec9eda4944186887ea42b969d6364"
          }
        },
        "2195b1bfdcac4a8792ae61622f524a23": {
          "model_module": "@jupyter-widgets/controls",
          "model_name": "DescriptionStyleModel",
          "model_module_version": "1.5.0",
          "state": {
            "_view_name": "StyleView",
            "_model_name": "DescriptionStyleModel",
            "description_width": "",
            "_view_module": "@jupyter-widgets/base",
            "_model_module_version": "1.5.0",
            "_view_count": null,
            "_view_module_version": "1.2.0",
            "_model_module": "@jupyter-widgets/controls"
          }
        },
        "caf5dc5f697c44b8bd72cd7837f7dae2": {
          "model_module": "@jupyter-widgets/base",
          "model_name": "LayoutModel",
          "model_module_version": "1.2.0",
          "state": {
            "_view_name": "LayoutView",
            "grid_template_rows": null,
            "right": null,
            "justify_content": null,
            "_view_module": "@jupyter-widgets/base",
            "overflow": null,
            "_model_module_version": "1.2.0",
            "_view_count": null,
            "flex_flow": null,
            "width": null,
            "min_width": null,
            "border": null,
            "align_items": null,
            "bottom": null,
            "_model_module": "@jupyter-widgets/base",
            "top": null,
            "grid_column": null,
            "overflow_y": null,
            "overflow_x": null,
            "grid_auto_flow": null,
            "grid_area": null,
            "grid_template_columns": null,
            "flex": null,
            "_model_name": "LayoutModel",
            "justify_items": null,
            "grid_row": null,
            "max_height": null,
            "align_content": null,
            "visibility": null,
            "align_self": null,
            "height": null,
            "min_height": null,
            "padding": null,
            "grid_auto_rows": null,
            "grid_gap": null,
            "max_width": null,
            "order": null,
            "_view_module_version": "1.2.0",
            "grid_template_areas": null,
            "object_position": null,
            "object_fit": null,
            "grid_auto_columns": null,
            "margin": null,
            "display": null,
            "left": null
          }
        },
        "3a9afadff163434eb486e4406e8a7e5c": {
          "model_module": "@jupyter-widgets/controls",
          "model_name": "ProgressStyleModel",
          "model_module_version": "1.5.0",
          "state": {
            "_view_name": "StyleView",
            "_model_name": "ProgressStyleModel",
            "description_width": "",
            "_view_module": "@jupyter-widgets/base",
            "_model_module_version": "1.5.0",
            "_view_count": null,
            "_view_module_version": "1.2.0",
            "bar_color": null,
            "_model_module": "@jupyter-widgets/controls"
          }
        },
        "dfd01484dd7a46168b512b4730ccf655": {
          "model_module": "@jupyter-widgets/base",
          "model_name": "LayoutModel",
          "model_module_version": "1.2.0",
          "state": {
            "_view_name": "LayoutView",
            "grid_template_rows": null,
            "right": null,
            "justify_content": null,
            "_view_module": "@jupyter-widgets/base",
            "overflow": null,
            "_model_module_version": "1.2.0",
            "_view_count": null,
            "flex_flow": null,
            "width": null,
            "min_width": null,
            "border": null,
            "align_items": null,
            "bottom": null,
            "_model_module": "@jupyter-widgets/base",
            "top": null,
            "grid_column": null,
            "overflow_y": null,
            "overflow_x": null,
            "grid_auto_flow": null,
            "grid_area": null,
            "grid_template_columns": null,
            "flex": null,
            "_model_name": "LayoutModel",
            "justify_items": null,
            "grid_row": null,
            "max_height": null,
            "align_content": null,
            "visibility": null,
            "align_self": null,
            "height": null,
            "min_height": null,
            "padding": null,
            "grid_auto_rows": null,
            "grid_gap": null,
            "max_width": null,
            "order": null,
            "_view_module_version": "1.2.0",
            "grid_template_areas": null,
            "object_position": null,
            "object_fit": null,
            "grid_auto_columns": null,
            "margin": null,
            "display": null,
            "left": null
          }
        },
        "9b0c6abefee54bbabf4cbddfbb25b1e5": {
          "model_module": "@jupyter-widgets/controls",
          "model_name": "DescriptionStyleModel",
          "model_module_version": "1.5.0",
          "state": {
            "_view_name": "StyleView",
            "_model_name": "DescriptionStyleModel",
            "description_width": "",
            "_view_module": "@jupyter-widgets/base",
            "_model_module_version": "1.5.0",
            "_view_count": null,
            "_view_module_version": "1.2.0",
            "_model_module": "@jupyter-widgets/controls"
          }
        },
        "f81ec9eda4944186887ea42b969d6364": {
          "model_module": "@jupyter-widgets/base",
          "model_name": "LayoutModel",
          "model_module_version": "1.2.0",
          "state": {
            "_view_name": "LayoutView",
            "grid_template_rows": null,
            "right": null,
            "justify_content": null,
            "_view_module": "@jupyter-widgets/base",
            "overflow": null,
            "_model_module_version": "1.2.0",
            "_view_count": null,
            "flex_flow": null,
            "width": null,
            "min_width": null,
            "border": null,
            "align_items": null,
            "bottom": null,
            "_model_module": "@jupyter-widgets/base",
            "top": null,
            "grid_column": null,
            "overflow_y": null,
            "overflow_x": null,
            "grid_auto_flow": null,
            "grid_area": null,
            "grid_template_columns": null,
            "flex": null,
            "_model_name": "LayoutModel",
            "justify_items": null,
            "grid_row": null,
            "max_height": null,
            "align_content": null,
            "visibility": null,
            "align_self": null,
            "height": null,
            "min_height": null,
            "padding": null,
            "grid_auto_rows": null,
            "grid_gap": null,
            "max_width": null,
            "order": null,
            "_view_module_version": "1.2.0",
            "grid_template_areas": null,
            "object_position": null,
            "object_fit": null,
            "grid_auto_columns": null,
            "margin": null,
            "display": null,
            "left": null
          }
        },
        "3655d15e044142f2a9f853fcc0825967": {
          "model_module": "@jupyter-widgets/controls",
          "model_name": "HBoxModel",
          "model_module_version": "1.5.0",
          "state": {
            "_view_name": "HBoxView",
            "_dom_classes": [],
            "_model_name": "HBoxModel",
            "_view_module": "@jupyter-widgets/controls",
            "_model_module_version": "1.5.0",
            "_view_count": null,
            "_view_module_version": "1.5.0",
            "box_style": "",
            "layout": "IPY_MODEL_127af165fdf74331a4f840dfe70b61b6",
            "_model_module": "@jupyter-widgets/controls",
            "children": [
              "IPY_MODEL_b48026c1d20444f0a3d98f564912a14f",
              "IPY_MODEL_03ed68ac58dd40fb8894f3331197bab1",
              "IPY_MODEL_83a74f5f0222421d8c9541cd658cfc23"
            ]
          }
        },
        "127af165fdf74331a4f840dfe70b61b6": {
          "model_module": "@jupyter-widgets/base",
          "model_name": "LayoutModel",
          "model_module_version": "1.2.0",
          "state": {
            "_view_name": "LayoutView",
            "grid_template_rows": null,
            "right": null,
            "justify_content": null,
            "_view_module": "@jupyter-widgets/base",
            "overflow": null,
            "_model_module_version": "1.2.0",
            "_view_count": null,
            "flex_flow": null,
            "width": null,
            "min_width": null,
            "border": null,
            "align_items": null,
            "bottom": null,
            "_model_module": "@jupyter-widgets/base",
            "top": null,
            "grid_column": null,
            "overflow_y": null,
            "overflow_x": null,
            "grid_auto_flow": null,
            "grid_area": null,
            "grid_template_columns": null,
            "flex": null,
            "_model_name": "LayoutModel",
            "justify_items": null,
            "grid_row": null,
            "max_height": null,
            "align_content": null,
            "visibility": null,
            "align_self": null,
            "height": null,
            "min_height": null,
            "padding": null,
            "grid_auto_rows": null,
            "grid_gap": null,
            "max_width": null,
            "order": null,
            "_view_module_version": "1.2.0",
            "grid_template_areas": null,
            "object_position": null,
            "object_fit": null,
            "grid_auto_columns": null,
            "margin": null,
            "display": null,
            "left": null
          }
        },
        "b48026c1d20444f0a3d98f564912a14f": {
          "model_module": "@jupyter-widgets/controls",
          "model_name": "HTMLModel",
          "model_module_version": "1.5.0",
          "state": {
            "_view_name": "HTMLView",
            "style": "IPY_MODEL_055e812698364eb89a8346c763109d17",
            "_dom_classes": [],
            "description": "",
            "_model_name": "HTMLModel",
            "placeholder": "​",
            "_view_module": "@jupyter-widgets/controls",
            "_model_module_version": "1.5.0",
            "value": "",
            "_view_count": null,
            "_view_module_version": "1.5.0",
            "description_tooltip": null,
            "_model_module": "@jupyter-widgets/controls",
            "layout": "IPY_MODEL_0e07c2b99a2a44f3989ac1067316b8dc"
          }
        },
        "03ed68ac58dd40fb8894f3331197bab1": {
          "model_module": "@jupyter-widgets/controls",
          "model_name": "FloatProgressModel",
          "model_module_version": "1.5.0",
          "state": {
            "_view_name": "ProgressView",
            "style": "IPY_MODEL_fe0f547909d24189add8896f8f2e11b0",
            "_dom_classes": [],
            "description": "",
            "_model_name": "FloatProgressModel",
            "bar_style": "success",
            "max": 28881,
            "_view_module": "@jupyter-widgets/controls",
            "_model_module_version": "1.5.0",
            "value": 28881,
            "_view_count": null,
            "_view_module_version": "1.5.0",
            "orientation": "horizontal",
            "min": 0,
            "description_tooltip": null,
            "_model_module": "@jupyter-widgets/controls",
            "layout": "IPY_MODEL_300cfc5d8e7a46b1b05fdb01eec84f80"
          }
        },
        "83a74f5f0222421d8c9541cd658cfc23": {
          "model_module": "@jupyter-widgets/controls",
          "model_name": "HTMLModel",
          "model_module_version": "1.5.0",
          "state": {
            "_view_name": "HTMLView",
            "style": "IPY_MODEL_67690c433cf94493afb56cae4abd6cde",
            "_dom_classes": [],
            "description": "",
            "_model_name": "HTMLModel",
            "placeholder": "​",
            "_view_module": "@jupyter-widgets/controls",
            "_model_module_version": "1.5.0",
            "value": " 29696/? [00:00&lt;00:00, 803621.19it/s]",
            "_view_count": null,
            "_view_module_version": "1.5.0",
            "description_tooltip": null,
            "_model_module": "@jupyter-widgets/controls",
            "layout": "IPY_MODEL_4ae8ae51ccf249519733bdf9990868b3"
          }
        },
        "055e812698364eb89a8346c763109d17": {
          "model_module": "@jupyter-widgets/controls",
          "model_name": "DescriptionStyleModel",
          "model_module_version": "1.5.0",
          "state": {
            "_view_name": "StyleView",
            "_model_name": "DescriptionStyleModel",
            "description_width": "",
            "_view_module": "@jupyter-widgets/base",
            "_model_module_version": "1.5.0",
            "_view_count": null,
            "_view_module_version": "1.2.0",
            "_model_module": "@jupyter-widgets/controls"
          }
        },
        "0e07c2b99a2a44f3989ac1067316b8dc": {
          "model_module": "@jupyter-widgets/base",
          "model_name": "LayoutModel",
          "model_module_version": "1.2.0",
          "state": {
            "_view_name": "LayoutView",
            "grid_template_rows": null,
            "right": null,
            "justify_content": null,
            "_view_module": "@jupyter-widgets/base",
            "overflow": null,
            "_model_module_version": "1.2.0",
            "_view_count": null,
            "flex_flow": null,
            "width": null,
            "min_width": null,
            "border": null,
            "align_items": null,
            "bottom": null,
            "_model_module": "@jupyter-widgets/base",
            "top": null,
            "grid_column": null,
            "overflow_y": null,
            "overflow_x": null,
            "grid_auto_flow": null,
            "grid_area": null,
            "grid_template_columns": null,
            "flex": null,
            "_model_name": "LayoutModel",
            "justify_items": null,
            "grid_row": null,
            "max_height": null,
            "align_content": null,
            "visibility": null,
            "align_self": null,
            "height": null,
            "min_height": null,
            "padding": null,
            "grid_auto_rows": null,
            "grid_gap": null,
            "max_width": null,
            "order": null,
            "_view_module_version": "1.2.0",
            "grid_template_areas": null,
            "object_position": null,
            "object_fit": null,
            "grid_auto_columns": null,
            "margin": null,
            "display": null,
            "left": null
          }
        },
        "fe0f547909d24189add8896f8f2e11b0": {
          "model_module": "@jupyter-widgets/controls",
          "model_name": "ProgressStyleModel",
          "model_module_version": "1.5.0",
          "state": {
            "_view_name": "StyleView",
            "_model_name": "ProgressStyleModel",
            "description_width": "",
            "_view_module": "@jupyter-widgets/base",
            "_model_module_version": "1.5.0",
            "_view_count": null,
            "_view_module_version": "1.2.0",
            "bar_color": null,
            "_model_module": "@jupyter-widgets/controls"
          }
        },
        "300cfc5d8e7a46b1b05fdb01eec84f80": {
          "model_module": "@jupyter-widgets/base",
          "model_name": "LayoutModel",
          "model_module_version": "1.2.0",
          "state": {
            "_view_name": "LayoutView",
            "grid_template_rows": null,
            "right": null,
            "justify_content": null,
            "_view_module": "@jupyter-widgets/base",
            "overflow": null,
            "_model_module_version": "1.2.0",
            "_view_count": null,
            "flex_flow": null,
            "width": null,
            "min_width": null,
            "border": null,
            "align_items": null,
            "bottom": null,
            "_model_module": "@jupyter-widgets/base",
            "top": null,
            "grid_column": null,
            "overflow_y": null,
            "overflow_x": null,
            "grid_auto_flow": null,
            "grid_area": null,
            "grid_template_columns": null,
            "flex": null,
            "_model_name": "LayoutModel",
            "justify_items": null,
            "grid_row": null,
            "max_height": null,
            "align_content": null,
            "visibility": null,
            "align_self": null,
            "height": null,
            "min_height": null,
            "padding": null,
            "grid_auto_rows": null,
            "grid_gap": null,
            "max_width": null,
            "order": null,
            "_view_module_version": "1.2.0",
            "grid_template_areas": null,
            "object_position": null,
            "object_fit": null,
            "grid_auto_columns": null,
            "margin": null,
            "display": null,
            "left": null
          }
        },
        "67690c433cf94493afb56cae4abd6cde": {
          "model_module": "@jupyter-widgets/controls",
          "model_name": "DescriptionStyleModel",
          "model_module_version": "1.5.0",
          "state": {
            "_view_name": "StyleView",
            "_model_name": "DescriptionStyleModel",
            "description_width": "",
            "_view_module": "@jupyter-widgets/base",
            "_model_module_version": "1.5.0",
            "_view_count": null,
            "_view_module_version": "1.2.0",
            "_model_module": "@jupyter-widgets/controls"
          }
        },
        "4ae8ae51ccf249519733bdf9990868b3": {
          "model_module": "@jupyter-widgets/base",
          "model_name": "LayoutModel",
          "model_module_version": "1.2.0",
          "state": {
            "_view_name": "LayoutView",
            "grid_template_rows": null,
            "right": null,
            "justify_content": null,
            "_view_module": "@jupyter-widgets/base",
            "overflow": null,
            "_model_module_version": "1.2.0",
            "_view_count": null,
            "flex_flow": null,
            "width": null,
            "min_width": null,
            "border": null,
            "align_items": null,
            "bottom": null,
            "_model_module": "@jupyter-widgets/base",
            "top": null,
            "grid_column": null,
            "overflow_y": null,
            "overflow_x": null,
            "grid_auto_flow": null,
            "grid_area": null,
            "grid_template_columns": null,
            "flex": null,
            "_model_name": "LayoutModel",
            "justify_items": null,
            "grid_row": null,
            "max_height": null,
            "align_content": null,
            "visibility": null,
            "align_self": null,
            "height": null,
            "min_height": null,
            "padding": null,
            "grid_auto_rows": null,
            "grid_gap": null,
            "max_width": null,
            "order": null,
            "_view_module_version": "1.2.0",
            "grid_template_areas": null,
            "object_position": null,
            "object_fit": null,
            "grid_auto_columns": null,
            "margin": null,
            "display": null,
            "left": null
          }
        },
        "962ab4f78ec4459da06129871b4bf48a": {
          "model_module": "@jupyter-widgets/controls",
          "model_name": "HBoxModel",
          "model_module_version": "1.5.0",
          "state": {
            "_view_name": "HBoxView",
            "_dom_classes": [],
            "_model_name": "HBoxModel",
            "_view_module": "@jupyter-widgets/controls",
            "_model_module_version": "1.5.0",
            "_view_count": null,
            "_view_module_version": "1.5.0",
            "box_style": "",
            "layout": "IPY_MODEL_59a7db6e7bb44af0b26a971ad614be9f",
            "_model_module": "@jupyter-widgets/controls",
            "children": [
              "IPY_MODEL_c45463b3c0bb4053a7f5ee97acd1d6f5",
              "IPY_MODEL_d5fc1aa83d6a498bb19d7bf3a61e9274",
              "IPY_MODEL_5f8c6696c3994c158dfb2db21fd75efe"
            ]
          }
        },
        "59a7db6e7bb44af0b26a971ad614be9f": {
          "model_module": "@jupyter-widgets/base",
          "model_name": "LayoutModel",
          "model_module_version": "1.2.0",
          "state": {
            "_view_name": "LayoutView",
            "grid_template_rows": null,
            "right": null,
            "justify_content": null,
            "_view_module": "@jupyter-widgets/base",
            "overflow": null,
            "_model_module_version": "1.2.0",
            "_view_count": null,
            "flex_flow": null,
            "width": null,
            "min_width": null,
            "border": null,
            "align_items": null,
            "bottom": null,
            "_model_module": "@jupyter-widgets/base",
            "top": null,
            "grid_column": null,
            "overflow_y": null,
            "overflow_x": null,
            "grid_auto_flow": null,
            "grid_area": null,
            "grid_template_columns": null,
            "flex": null,
            "_model_name": "LayoutModel",
            "justify_items": null,
            "grid_row": null,
            "max_height": null,
            "align_content": null,
            "visibility": null,
            "align_self": null,
            "height": null,
            "min_height": null,
            "padding": null,
            "grid_auto_rows": null,
            "grid_gap": null,
            "max_width": null,
            "order": null,
            "_view_module_version": "1.2.0",
            "grid_template_areas": null,
            "object_position": null,
            "object_fit": null,
            "grid_auto_columns": null,
            "margin": null,
            "display": null,
            "left": null
          }
        },
        "c45463b3c0bb4053a7f5ee97acd1d6f5": {
          "model_module": "@jupyter-widgets/controls",
          "model_name": "HTMLModel",
          "model_module_version": "1.5.0",
          "state": {
            "_view_name": "HTMLView",
            "style": "IPY_MODEL_5840c1387e21489cab514e82ea8334ac",
            "_dom_classes": [],
            "description": "",
            "_model_name": "HTMLModel",
            "placeholder": "​",
            "_view_module": "@jupyter-widgets/controls",
            "_model_module_version": "1.5.0",
            "value": "",
            "_view_count": null,
            "_view_module_version": "1.5.0",
            "description_tooltip": null,
            "_model_module": "@jupyter-widgets/controls",
            "layout": "IPY_MODEL_59d8a5ec3c4843c6b8ae7118a39efce1"
          }
        },
        "d5fc1aa83d6a498bb19d7bf3a61e9274": {
          "model_module": "@jupyter-widgets/controls",
          "model_name": "FloatProgressModel",
          "model_module_version": "1.5.0",
          "state": {
            "_view_name": "ProgressView",
            "style": "IPY_MODEL_6b5ef094a41a4db9aac25f47bc7c0e47",
            "_dom_classes": [],
            "description": "",
            "_model_name": "FloatProgressModel",
            "bar_style": "success",
            "max": 1648877,
            "_view_module": "@jupyter-widgets/controls",
            "_model_module_version": "1.5.0",
            "value": 1648877,
            "_view_count": null,
            "_view_module_version": "1.5.0",
            "orientation": "horizontal",
            "min": 0,
            "description_tooltip": null,
            "_model_module": "@jupyter-widgets/controls",
            "layout": "IPY_MODEL_09856b58b3444b89ae470fe53786e455"
          }
        },
        "5f8c6696c3994c158dfb2db21fd75efe": {
          "model_module": "@jupyter-widgets/controls",
          "model_name": "HTMLModel",
          "model_module_version": "1.5.0",
          "state": {
            "_view_name": "HTMLView",
            "style": "IPY_MODEL_ac86849025d9462ab4d4d2e82ba7297f",
            "_dom_classes": [],
            "description": "",
            "_model_name": "HTMLModel",
            "placeholder": "​",
            "_view_module": "@jupyter-widgets/controls",
            "_model_module_version": "1.5.0",
            "value": " 1649664/? [00:00&lt;00:00, 18603880.15it/s]",
            "_view_count": null,
            "_view_module_version": "1.5.0",
            "description_tooltip": null,
            "_model_module": "@jupyter-widgets/controls",
            "layout": "IPY_MODEL_43051db5af744930854fa1a3835861de"
          }
        },
        "5840c1387e21489cab514e82ea8334ac": {
          "model_module": "@jupyter-widgets/controls",
          "model_name": "DescriptionStyleModel",
          "model_module_version": "1.5.0",
          "state": {
            "_view_name": "StyleView",
            "_model_name": "DescriptionStyleModel",
            "description_width": "",
            "_view_module": "@jupyter-widgets/base",
            "_model_module_version": "1.5.0",
            "_view_count": null,
            "_view_module_version": "1.2.0",
            "_model_module": "@jupyter-widgets/controls"
          }
        },
        "59d8a5ec3c4843c6b8ae7118a39efce1": {
          "model_module": "@jupyter-widgets/base",
          "model_name": "LayoutModel",
          "model_module_version": "1.2.0",
          "state": {
            "_view_name": "LayoutView",
            "grid_template_rows": null,
            "right": null,
            "justify_content": null,
            "_view_module": "@jupyter-widgets/base",
            "overflow": null,
            "_model_module_version": "1.2.0",
            "_view_count": null,
            "flex_flow": null,
            "width": null,
            "min_width": null,
            "border": null,
            "align_items": null,
            "bottom": null,
            "_model_module": "@jupyter-widgets/base",
            "top": null,
            "grid_column": null,
            "overflow_y": null,
            "overflow_x": null,
            "grid_auto_flow": null,
            "grid_area": null,
            "grid_template_columns": null,
            "flex": null,
            "_model_name": "LayoutModel",
            "justify_items": null,
            "grid_row": null,
            "max_height": null,
            "align_content": null,
            "visibility": null,
            "align_self": null,
            "height": null,
            "min_height": null,
            "padding": null,
            "grid_auto_rows": null,
            "grid_gap": null,
            "max_width": null,
            "order": null,
            "_view_module_version": "1.2.0",
            "grid_template_areas": null,
            "object_position": null,
            "object_fit": null,
            "grid_auto_columns": null,
            "margin": null,
            "display": null,
            "left": null
          }
        },
        "6b5ef094a41a4db9aac25f47bc7c0e47": {
          "model_module": "@jupyter-widgets/controls",
          "model_name": "ProgressStyleModel",
          "model_module_version": "1.5.0",
          "state": {
            "_view_name": "StyleView",
            "_model_name": "ProgressStyleModel",
            "description_width": "",
            "_view_module": "@jupyter-widgets/base",
            "_model_module_version": "1.5.0",
            "_view_count": null,
            "_view_module_version": "1.2.0",
            "bar_color": null,
            "_model_module": "@jupyter-widgets/controls"
          }
        },
        "09856b58b3444b89ae470fe53786e455": {
          "model_module": "@jupyter-widgets/base",
          "model_name": "LayoutModel",
          "model_module_version": "1.2.0",
          "state": {
            "_view_name": "LayoutView",
            "grid_template_rows": null,
            "right": null,
            "justify_content": null,
            "_view_module": "@jupyter-widgets/base",
            "overflow": null,
            "_model_module_version": "1.2.0",
            "_view_count": null,
            "flex_flow": null,
            "width": null,
            "min_width": null,
            "border": null,
            "align_items": null,
            "bottom": null,
            "_model_module": "@jupyter-widgets/base",
            "top": null,
            "grid_column": null,
            "overflow_y": null,
            "overflow_x": null,
            "grid_auto_flow": null,
            "grid_area": null,
            "grid_template_columns": null,
            "flex": null,
            "_model_name": "LayoutModel",
            "justify_items": null,
            "grid_row": null,
            "max_height": null,
            "align_content": null,
            "visibility": null,
            "align_self": null,
            "height": null,
            "min_height": null,
            "padding": null,
            "grid_auto_rows": null,
            "grid_gap": null,
            "max_width": null,
            "order": null,
            "_view_module_version": "1.2.0",
            "grid_template_areas": null,
            "object_position": null,
            "object_fit": null,
            "grid_auto_columns": null,
            "margin": null,
            "display": null,
            "left": null
          }
        },
        "ac86849025d9462ab4d4d2e82ba7297f": {
          "model_module": "@jupyter-widgets/controls",
          "model_name": "DescriptionStyleModel",
          "model_module_version": "1.5.0",
          "state": {
            "_view_name": "StyleView",
            "_model_name": "DescriptionStyleModel",
            "description_width": "",
            "_view_module": "@jupyter-widgets/base",
            "_model_module_version": "1.5.0",
            "_view_count": null,
            "_view_module_version": "1.2.0",
            "_model_module": "@jupyter-widgets/controls"
          }
        },
        "43051db5af744930854fa1a3835861de": {
          "model_module": "@jupyter-widgets/base",
          "model_name": "LayoutModel",
          "model_module_version": "1.2.0",
          "state": {
            "_view_name": "LayoutView",
            "grid_template_rows": null,
            "right": null,
            "justify_content": null,
            "_view_module": "@jupyter-widgets/base",
            "overflow": null,
            "_model_module_version": "1.2.0",
            "_view_count": null,
            "flex_flow": null,
            "width": null,
            "min_width": null,
            "border": null,
            "align_items": null,
            "bottom": null,
            "_model_module": "@jupyter-widgets/base",
            "top": null,
            "grid_column": null,
            "overflow_y": null,
            "overflow_x": null,
            "grid_auto_flow": null,
            "grid_area": null,
            "grid_template_columns": null,
            "flex": null,
            "_model_name": "LayoutModel",
            "justify_items": null,
            "grid_row": null,
            "max_height": null,
            "align_content": null,
            "visibility": null,
            "align_self": null,
            "height": null,
            "min_height": null,
            "padding": null,
            "grid_auto_rows": null,
            "grid_gap": null,
            "max_width": null,
            "order": null,
            "_view_module_version": "1.2.0",
            "grid_template_areas": null,
            "object_position": null,
            "object_fit": null,
            "grid_auto_columns": null,
            "margin": null,
            "display": null,
            "left": null
          }
        },
        "57a30779e8764c41ad43151f0430419c": {
          "model_module": "@jupyter-widgets/controls",
          "model_name": "HBoxModel",
          "model_module_version": "1.5.0",
          "state": {
            "_view_name": "HBoxView",
            "_dom_classes": [],
            "_model_name": "HBoxModel",
            "_view_module": "@jupyter-widgets/controls",
            "_model_module_version": "1.5.0",
            "_view_count": null,
            "_view_module_version": "1.5.0",
            "box_style": "",
            "layout": "IPY_MODEL_0425b2ecaf03447ea33abb76bb3b624e",
            "_model_module": "@jupyter-widgets/controls",
            "children": [
              "IPY_MODEL_ec086cbb54dc4a399eef6f7e95c21039",
              "IPY_MODEL_98bfff7781fd429e9dde61a822edd36a",
              "IPY_MODEL_b2fccc3f8d3d4785b3d76678a6a13dcb"
            ]
          }
        },
        "0425b2ecaf03447ea33abb76bb3b624e": {
          "model_module": "@jupyter-widgets/base",
          "model_name": "LayoutModel",
          "model_module_version": "1.2.0",
          "state": {
            "_view_name": "LayoutView",
            "grid_template_rows": null,
            "right": null,
            "justify_content": null,
            "_view_module": "@jupyter-widgets/base",
            "overflow": null,
            "_model_module_version": "1.2.0",
            "_view_count": null,
            "flex_flow": null,
            "width": null,
            "min_width": null,
            "border": null,
            "align_items": null,
            "bottom": null,
            "_model_module": "@jupyter-widgets/base",
            "top": null,
            "grid_column": null,
            "overflow_y": null,
            "overflow_x": null,
            "grid_auto_flow": null,
            "grid_area": null,
            "grid_template_columns": null,
            "flex": null,
            "_model_name": "LayoutModel",
            "justify_items": null,
            "grid_row": null,
            "max_height": null,
            "align_content": null,
            "visibility": null,
            "align_self": null,
            "height": null,
            "min_height": null,
            "padding": null,
            "grid_auto_rows": null,
            "grid_gap": null,
            "max_width": null,
            "order": null,
            "_view_module_version": "1.2.0",
            "grid_template_areas": null,
            "object_position": null,
            "object_fit": null,
            "grid_auto_columns": null,
            "margin": null,
            "display": null,
            "left": null
          }
        },
        "ec086cbb54dc4a399eef6f7e95c21039": {
          "model_module": "@jupyter-widgets/controls",
          "model_name": "HTMLModel",
          "model_module_version": "1.5.0",
          "state": {
            "_view_name": "HTMLView",
            "style": "IPY_MODEL_e282496667c74cd889898f989309447c",
            "_dom_classes": [],
            "description": "",
            "_model_name": "HTMLModel",
            "placeholder": "​",
            "_view_module": "@jupyter-widgets/controls",
            "_model_module_version": "1.5.0",
            "value": "",
            "_view_count": null,
            "_view_module_version": "1.5.0",
            "description_tooltip": null,
            "_model_module": "@jupyter-widgets/controls",
            "layout": "IPY_MODEL_7a12e4fccc154acfb2ee852f37d3e041"
          }
        },
        "98bfff7781fd429e9dde61a822edd36a": {
          "model_module": "@jupyter-widgets/controls",
          "model_name": "FloatProgressModel",
          "model_module_version": "1.5.0",
          "state": {
            "_view_name": "ProgressView",
            "style": "IPY_MODEL_8c2970e8378748aca1f8ac716739d056",
            "_dom_classes": [],
            "description": "",
            "_model_name": "FloatProgressModel",
            "bar_style": "success",
            "max": 4542,
            "_view_module": "@jupyter-widgets/controls",
            "_model_module_version": "1.5.0",
            "value": 4542,
            "_view_count": null,
            "_view_module_version": "1.5.0",
            "orientation": "horizontal",
            "min": 0,
            "description_tooltip": null,
            "_model_module": "@jupyter-widgets/controls",
            "layout": "IPY_MODEL_2961a79b0d3847518e33a37f972da072"
          }
        },
        "b2fccc3f8d3d4785b3d76678a6a13dcb": {
          "model_module": "@jupyter-widgets/controls",
          "model_name": "HTMLModel",
          "model_module_version": "1.5.0",
          "state": {
            "_view_name": "HTMLView",
            "style": "IPY_MODEL_267a952d288d47e2a52777f25f990167",
            "_dom_classes": [],
            "description": "",
            "_model_name": "HTMLModel",
            "placeholder": "​",
            "_view_module": "@jupyter-widgets/controls",
            "_model_module_version": "1.5.0",
            "value": " 5120/? [00:00&lt;00:00, 75076.87it/s]",
            "_view_count": null,
            "_view_module_version": "1.5.0",
            "description_tooltip": null,
            "_model_module": "@jupyter-widgets/controls",
            "layout": "IPY_MODEL_5f966c85b41449a4ba321b4d19c6029a"
          }
        },
        "e282496667c74cd889898f989309447c": {
          "model_module": "@jupyter-widgets/controls",
          "model_name": "DescriptionStyleModel",
          "model_module_version": "1.5.0",
          "state": {
            "_view_name": "StyleView",
            "_model_name": "DescriptionStyleModel",
            "description_width": "",
            "_view_module": "@jupyter-widgets/base",
            "_model_module_version": "1.5.0",
            "_view_count": null,
            "_view_module_version": "1.2.0",
            "_model_module": "@jupyter-widgets/controls"
          }
        },
        "7a12e4fccc154acfb2ee852f37d3e041": {
          "model_module": "@jupyter-widgets/base",
          "model_name": "LayoutModel",
          "model_module_version": "1.2.0",
          "state": {
            "_view_name": "LayoutView",
            "grid_template_rows": null,
            "right": null,
            "justify_content": null,
            "_view_module": "@jupyter-widgets/base",
            "overflow": null,
            "_model_module_version": "1.2.0",
            "_view_count": null,
            "flex_flow": null,
            "width": null,
            "min_width": null,
            "border": null,
            "align_items": null,
            "bottom": null,
            "_model_module": "@jupyter-widgets/base",
            "top": null,
            "grid_column": null,
            "overflow_y": null,
            "overflow_x": null,
            "grid_auto_flow": null,
            "grid_area": null,
            "grid_template_columns": null,
            "flex": null,
            "_model_name": "LayoutModel",
            "justify_items": null,
            "grid_row": null,
            "max_height": null,
            "align_content": null,
            "visibility": null,
            "align_self": null,
            "height": null,
            "min_height": null,
            "padding": null,
            "grid_auto_rows": null,
            "grid_gap": null,
            "max_width": null,
            "order": null,
            "_view_module_version": "1.2.0",
            "grid_template_areas": null,
            "object_position": null,
            "object_fit": null,
            "grid_auto_columns": null,
            "margin": null,
            "display": null,
            "left": null
          }
        },
        "8c2970e8378748aca1f8ac716739d056": {
          "model_module": "@jupyter-widgets/controls",
          "model_name": "ProgressStyleModel",
          "model_module_version": "1.5.0",
          "state": {
            "_view_name": "StyleView",
            "_model_name": "ProgressStyleModel",
            "description_width": "",
            "_view_module": "@jupyter-widgets/base",
            "_model_module_version": "1.5.0",
            "_view_count": null,
            "_view_module_version": "1.2.0",
            "bar_color": null,
            "_model_module": "@jupyter-widgets/controls"
          }
        },
        "2961a79b0d3847518e33a37f972da072": {
          "model_module": "@jupyter-widgets/base",
          "model_name": "LayoutModel",
          "model_module_version": "1.2.0",
          "state": {
            "_view_name": "LayoutView",
            "grid_template_rows": null,
            "right": null,
            "justify_content": null,
            "_view_module": "@jupyter-widgets/base",
            "overflow": null,
            "_model_module_version": "1.2.0",
            "_view_count": null,
            "flex_flow": null,
            "width": null,
            "min_width": null,
            "border": null,
            "align_items": null,
            "bottom": null,
            "_model_module": "@jupyter-widgets/base",
            "top": null,
            "grid_column": null,
            "overflow_y": null,
            "overflow_x": null,
            "grid_auto_flow": null,
            "grid_area": null,
            "grid_template_columns": null,
            "flex": null,
            "_model_name": "LayoutModel",
            "justify_items": null,
            "grid_row": null,
            "max_height": null,
            "align_content": null,
            "visibility": null,
            "align_self": null,
            "height": null,
            "min_height": null,
            "padding": null,
            "grid_auto_rows": null,
            "grid_gap": null,
            "max_width": null,
            "order": null,
            "_view_module_version": "1.2.0",
            "grid_template_areas": null,
            "object_position": null,
            "object_fit": null,
            "grid_auto_columns": null,
            "margin": null,
            "display": null,
            "left": null
          }
        },
        "267a952d288d47e2a52777f25f990167": {
          "model_module": "@jupyter-widgets/controls",
          "model_name": "DescriptionStyleModel",
          "model_module_version": "1.5.0",
          "state": {
            "_view_name": "StyleView",
            "_model_name": "DescriptionStyleModel",
            "description_width": "",
            "_view_module": "@jupyter-widgets/base",
            "_model_module_version": "1.5.0",
            "_view_count": null,
            "_view_module_version": "1.2.0",
            "_model_module": "@jupyter-widgets/controls"
          }
        },
        "5f966c85b41449a4ba321b4d19c6029a": {
          "model_module": "@jupyter-widgets/base",
          "model_name": "LayoutModel",
          "model_module_version": "1.2.0",
          "state": {
            "_view_name": "LayoutView",
            "grid_template_rows": null,
            "right": null,
            "justify_content": null,
            "_view_module": "@jupyter-widgets/base",
            "overflow": null,
            "_model_module_version": "1.2.0",
            "_view_count": null,
            "flex_flow": null,
            "width": null,
            "min_width": null,
            "border": null,
            "align_items": null,
            "bottom": null,
            "_model_module": "@jupyter-widgets/base",
            "top": null,
            "grid_column": null,
            "overflow_y": null,
            "overflow_x": null,
            "grid_auto_flow": null,
            "grid_area": null,
            "grid_template_columns": null,
            "flex": null,
            "_model_name": "LayoutModel",
            "justify_items": null,
            "grid_row": null,
            "max_height": null,
            "align_content": null,
            "visibility": null,
            "align_self": null,
            "height": null,
            "min_height": null,
            "padding": null,
            "grid_auto_rows": null,
            "grid_gap": null,
            "max_width": null,
            "order": null,
            "_view_module_version": "1.2.0",
            "grid_template_areas": null,
            "object_position": null,
            "object_fit": null,
            "grid_auto_columns": null,
            "margin": null,
            "display": null,
            "left": null
          }
        },
        "b43120f3c2dd4a8fa8fd208ef37427f3": {
          "model_module": "@jupyter-widgets/controls",
          "model_name": "HBoxModel",
          "model_module_version": "1.5.0",
          "state": {
            "_view_name": "HBoxView",
            "_dom_classes": [],
            "_model_name": "HBoxModel",
            "_view_module": "@jupyter-widgets/controls",
            "_model_module_version": "1.5.0",
            "_view_count": null,
            "_view_module_version": "1.5.0",
            "box_style": "",
            "layout": "IPY_MODEL_41c7bd1b5d144046b25f4d9109dec62f",
            "_model_module": "@jupyter-widgets/controls",
            "children": [
              "IPY_MODEL_13c2210f6a3844d188f55cd1379bf189",
              "IPY_MODEL_44acbe8e8ae04f68af1b40a5d8cc7936",
              "IPY_MODEL_d60b65bebc56410c9792ef7972fa5153"
            ]
          }
        },
        "41c7bd1b5d144046b25f4d9109dec62f": {
          "model_module": "@jupyter-widgets/base",
          "model_name": "LayoutModel",
          "model_module_version": "1.2.0",
          "state": {
            "_view_name": "LayoutView",
            "grid_template_rows": null,
            "right": null,
            "justify_content": null,
            "_view_module": "@jupyter-widgets/base",
            "overflow": null,
            "_model_module_version": "1.2.0",
            "_view_count": null,
            "flex_flow": null,
            "width": null,
            "min_width": null,
            "border": null,
            "align_items": null,
            "bottom": null,
            "_model_module": "@jupyter-widgets/base",
            "top": null,
            "grid_column": null,
            "overflow_y": null,
            "overflow_x": null,
            "grid_auto_flow": null,
            "grid_area": null,
            "grid_template_columns": null,
            "flex": null,
            "_model_name": "LayoutModel",
            "justify_items": null,
            "grid_row": null,
            "max_height": null,
            "align_content": null,
            "visibility": null,
            "align_self": null,
            "height": null,
            "min_height": null,
            "padding": null,
            "grid_auto_rows": null,
            "grid_gap": null,
            "max_width": null,
            "order": null,
            "_view_module_version": "1.2.0",
            "grid_template_areas": null,
            "object_position": null,
            "object_fit": null,
            "grid_auto_columns": null,
            "margin": null,
            "display": null,
            "left": null
          }
        },
        "13c2210f6a3844d188f55cd1379bf189": {
          "model_module": "@jupyter-widgets/controls",
          "model_name": "HTMLModel",
          "model_module_version": "1.5.0",
          "state": {
            "_view_name": "HTMLView",
            "style": "IPY_MODEL_0da44148b8cd438eae04deca6c93ef9b",
            "_dom_classes": [],
            "description": "",
            "_model_name": "HTMLModel",
            "placeholder": "​",
            "_view_module": "@jupyter-widgets/controls",
            "_model_module_version": "1.5.0",
            "value": "",
            "_view_count": null,
            "_view_module_version": "1.5.0",
            "description_tooltip": null,
            "_model_module": "@jupyter-widgets/controls",
            "layout": "IPY_MODEL_4cedac78a38c4d50af3ee0e35c28eb40"
          }
        },
        "44acbe8e8ae04f68af1b40a5d8cc7936": {
          "model_module": "@jupyter-widgets/controls",
          "model_name": "FloatProgressModel",
          "model_module_version": "1.5.0",
          "state": {
            "_view_name": "ProgressView",
            "style": "IPY_MODEL_4ea649a9383f4aa8b1a255eef6b7d5d2",
            "_dom_classes": [],
            "description": "",
            "_model_name": "FloatProgressModel",
            "bar_style": "success",
            "max": 170498071,
            "_view_module": "@jupyter-widgets/controls",
            "_model_module_version": "1.5.0",
            "value": 170498071,
            "_view_count": null,
            "_view_module_version": "1.5.0",
            "orientation": "horizontal",
            "min": 0,
            "description_tooltip": null,
            "_model_module": "@jupyter-widgets/controls",
            "layout": "IPY_MODEL_8759459d88034dc196f51e6c60752f23"
          }
        },
        "d60b65bebc56410c9792ef7972fa5153": {
          "model_module": "@jupyter-widgets/controls",
          "model_name": "HTMLModel",
          "model_module_version": "1.5.0",
          "state": {
            "_view_name": "HTMLView",
            "style": "IPY_MODEL_6f7b67e5999f4fb38497443b1af64b40",
            "_dom_classes": [],
            "description": "",
            "_model_name": "HTMLModel",
            "placeholder": "​",
            "_view_module": "@jupyter-widgets/controls",
            "_model_module_version": "1.5.0",
            "value": " 170499072/? [00:06&lt;00:00, 32464339.61it/s]",
            "_view_count": null,
            "_view_module_version": "1.5.0",
            "description_tooltip": null,
            "_model_module": "@jupyter-widgets/controls",
            "layout": "IPY_MODEL_4a28dd1be878467eb292afa0c8777fb0"
          }
        },
        "0da44148b8cd438eae04deca6c93ef9b": {
          "model_module": "@jupyter-widgets/controls",
          "model_name": "DescriptionStyleModel",
          "model_module_version": "1.5.0",
          "state": {
            "_view_name": "StyleView",
            "_model_name": "DescriptionStyleModel",
            "description_width": "",
            "_view_module": "@jupyter-widgets/base",
            "_model_module_version": "1.5.0",
            "_view_count": null,
            "_view_module_version": "1.2.0",
            "_model_module": "@jupyter-widgets/controls"
          }
        },
        "4cedac78a38c4d50af3ee0e35c28eb40": {
          "model_module": "@jupyter-widgets/base",
          "model_name": "LayoutModel",
          "model_module_version": "1.2.0",
          "state": {
            "_view_name": "LayoutView",
            "grid_template_rows": null,
            "right": null,
            "justify_content": null,
            "_view_module": "@jupyter-widgets/base",
            "overflow": null,
            "_model_module_version": "1.2.0",
            "_view_count": null,
            "flex_flow": null,
            "width": null,
            "min_width": null,
            "border": null,
            "align_items": null,
            "bottom": null,
            "_model_module": "@jupyter-widgets/base",
            "top": null,
            "grid_column": null,
            "overflow_y": null,
            "overflow_x": null,
            "grid_auto_flow": null,
            "grid_area": null,
            "grid_template_columns": null,
            "flex": null,
            "_model_name": "LayoutModel",
            "justify_items": null,
            "grid_row": null,
            "max_height": null,
            "align_content": null,
            "visibility": null,
            "align_self": null,
            "height": null,
            "min_height": null,
            "padding": null,
            "grid_auto_rows": null,
            "grid_gap": null,
            "max_width": null,
            "order": null,
            "_view_module_version": "1.2.0",
            "grid_template_areas": null,
            "object_position": null,
            "object_fit": null,
            "grid_auto_columns": null,
            "margin": null,
            "display": null,
            "left": null
          }
        },
        "4ea649a9383f4aa8b1a255eef6b7d5d2": {
          "model_module": "@jupyter-widgets/controls",
          "model_name": "ProgressStyleModel",
          "model_module_version": "1.5.0",
          "state": {
            "_view_name": "StyleView",
            "_model_name": "ProgressStyleModel",
            "description_width": "",
            "_view_module": "@jupyter-widgets/base",
            "_model_module_version": "1.5.0",
            "_view_count": null,
            "_view_module_version": "1.2.0",
            "bar_color": null,
            "_model_module": "@jupyter-widgets/controls"
          }
        },
        "8759459d88034dc196f51e6c60752f23": {
          "model_module": "@jupyter-widgets/base",
          "model_name": "LayoutModel",
          "model_module_version": "1.2.0",
          "state": {
            "_view_name": "LayoutView",
            "grid_template_rows": null,
            "right": null,
            "justify_content": null,
            "_view_module": "@jupyter-widgets/base",
            "overflow": null,
            "_model_module_version": "1.2.0",
            "_view_count": null,
            "flex_flow": null,
            "width": null,
            "min_width": null,
            "border": null,
            "align_items": null,
            "bottom": null,
            "_model_module": "@jupyter-widgets/base",
            "top": null,
            "grid_column": null,
            "overflow_y": null,
            "overflow_x": null,
            "grid_auto_flow": null,
            "grid_area": null,
            "grid_template_columns": null,
            "flex": null,
            "_model_name": "LayoutModel",
            "justify_items": null,
            "grid_row": null,
            "max_height": null,
            "align_content": null,
            "visibility": null,
            "align_self": null,
            "height": null,
            "min_height": null,
            "padding": null,
            "grid_auto_rows": null,
            "grid_gap": null,
            "max_width": null,
            "order": null,
            "_view_module_version": "1.2.0",
            "grid_template_areas": null,
            "object_position": null,
            "object_fit": null,
            "grid_auto_columns": null,
            "margin": null,
            "display": null,
            "left": null
          }
        },
        "6f7b67e5999f4fb38497443b1af64b40": {
          "model_module": "@jupyter-widgets/controls",
          "model_name": "DescriptionStyleModel",
          "model_module_version": "1.5.0",
          "state": {
            "_view_name": "StyleView",
            "_model_name": "DescriptionStyleModel",
            "description_width": "",
            "_view_module": "@jupyter-widgets/base",
            "_model_module_version": "1.5.0",
            "_view_count": null,
            "_view_module_version": "1.2.0",
            "_model_module": "@jupyter-widgets/controls"
          }
        },
        "4a28dd1be878467eb292afa0c8777fb0": {
          "model_module": "@jupyter-widgets/base",
          "model_name": "LayoutModel",
          "model_module_version": "1.2.0",
          "state": {
            "_view_name": "LayoutView",
            "grid_template_rows": null,
            "right": null,
            "justify_content": null,
            "_view_module": "@jupyter-widgets/base",
            "overflow": null,
            "_model_module_version": "1.2.0",
            "_view_count": null,
            "flex_flow": null,
            "width": null,
            "min_width": null,
            "border": null,
            "align_items": null,
            "bottom": null,
            "_model_module": "@jupyter-widgets/base",
            "top": null,
            "grid_column": null,
            "overflow_y": null,
            "overflow_x": null,
            "grid_auto_flow": null,
            "grid_area": null,
            "grid_template_columns": null,
            "flex": null,
            "_model_name": "LayoutModel",
            "justify_items": null,
            "grid_row": null,
            "max_height": null,
            "align_content": null,
            "visibility": null,
            "align_self": null,
            "height": null,
            "min_height": null,
            "padding": null,
            "grid_auto_rows": null,
            "grid_gap": null,
            "max_width": null,
            "order": null,
            "_view_module_version": "1.2.0",
            "grid_template_areas": null,
            "object_position": null,
            "object_fit": null,
            "grid_auto_columns": null,
            "margin": null,
            "display": null,
            "left": null
          }
        }
      }
    },
    "interpreter": {
      "hash": "65636d361fc736ae0b1f9eeae3216986d5f42230c906e5696168f8f628d1ae28"
    }
  },
  "cells": [
    {
      "cell_type": "markdown",
      "source": [
        "# Assignment 1: Skip Connections\n",
        "### CS F425: Deep Learning\n"
      ],
      "metadata": {
        "id": "J3VsmcZU4O8I"
      }
    },
    {
      "cell_type": "code",
      "execution_count": 1,
      "source": [
        "# Pytorch for creating, training and testing neural network\r\n",
        "import torch\r\n",
        "import torch.nn as nn\r\n",
        "import torch.nn.functional as F\r\n",
        "import torch.optim as optim\r\n",
        "import torch.utils.data as data\r\n",
        "\r\n",
        "# Torchvision for image datasets - MNIST and CIFAR-10\r\n",
        "import torchvision.transforms as transforms\r\n",
        "import torchvision.datasets as datasets\r\n",
        "\r\n",
        "# sklearn for analysis\r\n",
        "from sklearn import metrics\r\n",
        "from sklearn import decomposition\r\n",
        "from sklearn import manifold\r\n",
        "\r\n",
        "# for graphs and other uses\r\n",
        "import matplotlib.pyplot as plt\r\n",
        "import numpy as np\r\n",
        "\r\n",
        "import copy\r\n",
        "import random\r\n",
        "import time"
      ],
      "outputs": [],
      "metadata": {
        "id": "CHadwpvmREvE"
      }
    },
    {
      "cell_type": "markdown",
      "source": [
        "Section 1: Preparing Data \\\\\n",
        "(MNIST, CIFAR-10)\n",
        "\n",
        "Section 2: MLP and Skip \\\\\n",
        "a)MLP \\\\\n",
        "b)Resnet : 3 classes \\\\\n",
        "c)Densenet : 3 classes\n",
        "\n",
        "Section 3: Training 2*7 models (18 hl, 100/150) \\\\\n",
        "            (loss graph) \\\\\n",
        "Testing 4: (all models)\n",
        "\n",
        "Analysis 5: accuracy (mlp vs skip) \\\\\n",
        "            acc (dn vs rn) \\\\\n",
        "            continuity (softmax vs tanh)? \\\\\n",
        "            n_layers:(3,10?,18) \\\\\n",
        "            n_nodes?: (100,200) \\\\\n",
        "\n",
        "Appendix 6: Contribution, references"
      ],
      "metadata": {
        "id": "KVQeii33dFi6"
      }
    },
    {
      "cell_type": "markdown",
      "source": [
        "### Data Preprocessing"
      ],
      "metadata": {
        "id": "WFMp16oI4O8N"
      }
    },
    {
      "cell_type": "code",
      "execution_count": 2,
      "source": [
        "# Seeded for reproducing results\r\n",
        "SEED = 1234\r\n",
        "\r\n",
        "random.seed(SEED)\r\n",
        "np.random.seed(SEED)\r\n",
        "torch.manual_seed(SEED)\r\n",
        "torch.cuda.manual_seed(SEED)\r\n",
        "torch.backends.cudnn.deterministic = True"
      ],
      "outputs": [],
      "metadata": {
        "id": "rvBiLgLAREvN"
      }
    },
    {
      "cell_type": "markdown",
      "source": [
        "#### Preparing Datasets\n",
        "We are working with the MNIST and CIFAR-10 datasets.\n",
        "- MNIST is a collection of *28x28* binary images of hand-written digits from 0 to 9\n",
        "- CIFAR-10 is a collection of *32x32* colour images of 10 classes of objects and animals\n",
        "\n",
        "Importing and Normalizing the datasets. Normalizing the data facilitates the training of the network by avoiding local-minima."
      ],
      "metadata": {
        "id": "v7S7XRwUZsj6"
      }
    },
    {
      "cell_type": "code",
      "execution_count": 6,
      "source": [
        "ROOT = '.data' # directory to store the data\r\n",
        "\r\n",
        "# Importing the MNIST dataset\r\n",
        "train_data_MNIST = datasets.MNIST(root = ROOT, \r\n",
        "                            train = True, \r\n",
        "                            download = True)\r\n",
        "\r\n",
        "# Importing the CIFAR-10 dataset\r\n",
        "train_data_CIFAR = datasets.CIFAR10(root = ROOT, \r\n",
        "                            train = True, \r\n",
        "                            download = True)"
      ],
      "outputs": [
        {
          "output_type": "stream",
          "name": "stdout",
          "text": [
            "Files already downloaded and verified\n"
          ]
        }
      ],
      "metadata": {
        "id": "UOIQVy-cREvQ",
        "colab": {
          "base_uri": "https://localhost:8080/",
          "height": 537,
          "referenced_widgets": [
            "123305d877614284954166b558716814",
            "36aabb2af44d4bcbb93f704a6c296965",
            "03073d227c3645f4976d5eb0a62dfee5",
            "e4a2bf1c367744ff98dc4f35fb9e6321",
            "11ef2000edb1403281c1bf6885586c71",
            "2195b1bfdcac4a8792ae61622f524a23",
            "caf5dc5f697c44b8bd72cd7837f7dae2",
            "3a9afadff163434eb486e4406e8a7e5c",
            "dfd01484dd7a46168b512b4730ccf655",
            "9b0c6abefee54bbabf4cbddfbb25b1e5",
            "f81ec9eda4944186887ea42b969d6364",
            "3655d15e044142f2a9f853fcc0825967",
            "127af165fdf74331a4f840dfe70b61b6",
            "b48026c1d20444f0a3d98f564912a14f",
            "03ed68ac58dd40fb8894f3331197bab1",
            "83a74f5f0222421d8c9541cd658cfc23",
            "055e812698364eb89a8346c763109d17",
            "0e07c2b99a2a44f3989ac1067316b8dc",
            "fe0f547909d24189add8896f8f2e11b0",
            "300cfc5d8e7a46b1b05fdb01eec84f80",
            "67690c433cf94493afb56cae4abd6cde",
            "4ae8ae51ccf249519733bdf9990868b3",
            "962ab4f78ec4459da06129871b4bf48a",
            "59a7db6e7bb44af0b26a971ad614be9f",
            "c45463b3c0bb4053a7f5ee97acd1d6f5",
            "d5fc1aa83d6a498bb19d7bf3a61e9274",
            "5f8c6696c3994c158dfb2db21fd75efe",
            "5840c1387e21489cab514e82ea8334ac",
            "59d8a5ec3c4843c6b8ae7118a39efce1",
            "6b5ef094a41a4db9aac25f47bc7c0e47",
            "09856b58b3444b89ae470fe53786e455",
            "ac86849025d9462ab4d4d2e82ba7297f",
            "43051db5af744930854fa1a3835861de",
            "57a30779e8764c41ad43151f0430419c",
            "0425b2ecaf03447ea33abb76bb3b624e",
            "ec086cbb54dc4a399eef6f7e95c21039",
            "98bfff7781fd429e9dde61a822edd36a",
            "b2fccc3f8d3d4785b3d76678a6a13dcb",
            "e282496667c74cd889898f989309447c",
            "7a12e4fccc154acfb2ee852f37d3e041",
            "8c2970e8378748aca1f8ac716739d056",
            "2961a79b0d3847518e33a37f972da072",
            "267a952d288d47e2a52777f25f990167",
            "5f966c85b41449a4ba321b4d19c6029a",
            "b43120f3c2dd4a8fa8fd208ef37427f3",
            "41c7bd1b5d144046b25f4d9109dec62f",
            "13c2210f6a3844d188f55cd1379bf189",
            "44acbe8e8ae04f68af1b40a5d8cc7936",
            "d60b65bebc56410c9792ef7972fa5153",
            "0da44148b8cd438eae04deca6c93ef9b",
            "4cedac78a38c4d50af3ee0e35c28eb40",
            "4ea649a9383f4aa8b1a255eef6b7d5d2",
            "8759459d88034dc196f51e6c60752f23",
            "6f7b67e5999f4fb38497443b1af64b40",
            "4a28dd1be878467eb292afa0c8777fb0"
          ]
        },
        "outputId": "e3797690-9cb9-4ebe-baf2-662ca525ca9d"
      }
    },
    {
      "cell_type": "code",
      "execution_count": 7,
      "source": [
        "# Normalizing MNIST data\r\n",
        "mean_MNIST = train_data_MNIST.data.float().mean() / 255\r\n",
        "std_MNIST = train_data_MNIST.data.float().std() / 255\r\n",
        "\r\n",
        "print(f'Calculated mean for MNIST: {mean_MNIST}')\r\n",
        "print(f'Calculated standard deviation for MNIST: {std_MNIST}')\r\n",
        "\r\n",
        "# Normalizing CIFAR-10 data\r\n",
        "mean_CIFAR = train_data_CIFAR.data.mean() / 255\r\n",
        "std_CIFAR = train_data_CIFAR.data.std() / 255\r\n",
        "\r\n",
        "print(f'Calculated mean for CIFAR-10: {mean_CIFAR}')\r\n",
        "print(f'Calculated standard deviation for CIFAR-10: {std_CIFAR}')"
      ],
      "outputs": [
        {
          "output_type": "stream",
          "name": "stdout",
          "text": [
            "Calculated mean for MNIST: 0.13066047430038452\n",
            "Calculated standard deviation for MNIST: 0.30810779333114624\n",
            "Calculated mean for CIFAR-10: 0.4733630004850899\n",
            "Calculated standard deviation for CIFAR-10: 0.2515689250632208\n"
          ]
        }
      ],
      "metadata": {
        "id": "FhM076c7Zzrv",
        "colab": {
          "base_uri": "https://localhost:8080/"
        },
        "outputId": "5a3722a3-cdbd-4fc4-8d80-43e5fb7b6520"
      }
    },
    {
      "cell_type": "markdown",
      "source": [
        "#### Transformation of Data\n",
        "A `transform` states how our data should be augmented and processed. Data augmentation involves manipulating the available training data in a way that artifically creates more training examples. We use `transforms.Compose` to build a list of transformations that will be applied to the image. \n",
        "\n",
        "The transforms we use are:\n",
        "- `RandomRotation` - randomly rotates the image between `(-x, +x)` degrees, where we have set `x = 5`.\n",
        "- `RandomCrop` - this first adds `padding` around our image, 2 pixels here, to artifically make it bigger, before taking a random `28x28` square crop of the image.\n",
        "- `ToTensor()` - this converts the image from a PIL image into a PyTorch tensor.\n",
        "- `Normalize` - this subtracts the mean and divides by the standard deviations given. \n",
        "\n",
        "We have two lists of transforms, a train and a test transform. The train transforms are to artificially create more examples for our model to train on. We do not augment our test data in the same way as we want a consistent set of examples to evaluate our final model on. The test data, however, should still be normalized."
      ],
      "metadata": {
        "id": "U50VOMAW4O8d"
      }
    },
    {
      "cell_type": "code",
      "execution_count": 8,
      "source": [
        "# Transformation and Normalization of MNIST training data\r\n",
        "train_transforms_MNIST = transforms.Compose([\r\n",
        "                            transforms.RandomRotation(5, fill=(0,)),\r\n",
        "                            transforms.RandomCrop(28, padding = 2),\r\n",
        "                            transforms.ToTensor(),\r\n",
        "                            transforms.Normalize(mean = [mean_MNIST], std = [std_MNIST])\r\n",
        "                                      ])\r\n",
        "\r\n",
        "# Transformation and Normalization of MNIST testing data\r\n",
        "test_transforms_MNIST = transforms.Compose([\r\n",
        "                           transforms.ToTensor(),\r\n",
        "                           transforms.Normalize(mean = [mean_MNIST], std = [std_MNIST])\r\n",
        "                                     ])"
      ],
      "outputs": [],
      "metadata": {
        "id": "WuYq4cRdREvV"
      }
    },
    {
      "cell_type": "code",
      "execution_count": 9,
      "source": [
        "# Transformation and Normalization of CIFAR-10 training data\r\n",
        "train_transforms_CIFAR = transforms.Compose([\r\n",
        "                            transforms.RandomRotation(5),\r\n",
        "                            transforms.RandomCrop(32, padding = 2),\r\n",
        "                            transforms.ToTensor(),\r\n",
        "                            transforms.Normalize(mean = [mean_CIFAR], std = [std_CIFAR])\r\n",
        "                                      ])\r\n",
        "\r\n",
        "# Transformation and Normalization of CIFAR-10 testing data\r\n",
        "test_transforms_CIFAR = transforms.Compose([\r\n",
        "                           transforms.ToTensor(),\r\n",
        "                           transforms.Normalize(mean = [mean_CIFAR], std = [std_CIFAR])\r\n",
        "                                     ])"
      ],
      "outputs": [],
      "metadata": {
        "id": "EUUug_5q4BMO"
      }
    },
    {
      "cell_type": "markdown",
      "source": [
        "Now we have defined our transforms we can then load the train and test data with the relevant transforms defined."
      ],
      "metadata": {
        "id": "73S5zyox4O8h"
      }
    },
    {
      "cell_type": "code",
      "execution_count": 10,
      "source": [
        "train_data_MNIST = datasets.MNIST(root = ROOT, \r\n",
        "                            train = True, \r\n",
        "                            download = True, \r\n",
        "                            transform = train_transforms_MNIST)\r\n",
        "\r\n",
        "test_data_MNIST = datasets.MNIST(root = ROOT, \r\n",
        "                           train = False, \r\n",
        "                           download = True, \r\n",
        "                           transform = test_transforms_MNIST)"
      ],
      "outputs": [],
      "metadata": {
        "id": "GPvVD4VLREva"
      }
    },
    {
      "cell_type": "code",
      "execution_count": 11,
      "source": [
        "train_data_CIFAR = datasets.CIFAR10(root = ROOT, \r\n",
        "                            train = True, \r\n",
        "                            download = True, \r\n",
        "                            transform = train_transforms_CIFAR)\r\n",
        "\r\n",
        "test_data_CIFAR = datasets.CIFAR10(root = ROOT, \r\n",
        "                           train = False, \r\n",
        "                           download = True, \r\n",
        "                           transform = test_transforms_CIFAR)"
      ],
      "outputs": [
        {
          "output_type": "stream",
          "name": "stdout",
          "text": [
            "Files already downloaded and verified\n",
            "Files already downloaded and verified\n"
          ]
        }
      ],
      "metadata": {
        "colab": {
          "base_uri": "https://localhost:8080/"
        },
        "id": "fAEGFdaE4tJh",
        "outputId": "932e5db2-b8ce-41e5-82f9-fd6276fa73fb"
      }
    },
    {
      "cell_type": "markdown",
      "source": [
        "### Looking at the Data\n"
      ],
      "metadata": {
        "id": "ayyHLZjg4O8o"
      }
    },
    {
      "cell_type": "code",
      "execution_count": 12,
      "source": [
        "# Train-Test split for MNIST\r\n",
        "print('MNIST')\r\n",
        "print(f'Number of training examples: {len(train_data_MNIST)}')\r\n",
        "print(f'Number of testing examples: {len(test_data_MNIST)}')\r\n",
        "\r\n",
        "# Train-Test split for CIFAR-10\r\n",
        "print('CIFAR-10')\r\n",
        "print(f'Number of training examples: {len(train_data_CIFAR)}')\r\n",
        "print(f'Number of testing examples: {len(test_data_CIFAR)}')"
      ],
      "outputs": [
        {
          "output_type": "stream",
          "name": "stdout",
          "text": [
            "MNIST\n",
            "Number of training examples: 60000\n",
            "Number of testing examples: 10000\n",
            "CIFAR-10\n",
            "Number of training examples: 50000\n",
            "Number of testing examples: 10000\n"
          ]
        }
      ],
      "metadata": {
        "colab": {
          "base_uri": "https://localhost:8080/"
        },
        "id": "fPo3pfgciRo3",
        "outputId": "864cbc76-7f86-460b-a5fd-0d6f9ab26eff"
      }
    },
    {
      "cell_type": "markdown",
      "source": [
        "Following is an example image from each dataset"
      ],
      "metadata": {
        "id": "2a23Msn44O8u"
      }
    },
    {
      "cell_type": "code",
      "execution_count": 13,
      "source": [
        "im_mnist = random.choice(train_data_MNIST)\r\n",
        "\r\n",
        "fig_mnist = plt.figure()\r\n",
        "plt.imshow(im_mnist[0].view(28, 28).cpu().numpy(), cmap='gray')\r\n",
        "plt.show()"
      ],
      "outputs": [
        {
          "output_type": "display_data",
          "data": {
            "image/png": "[encoded data removed]",
            "text/plain": [
              "<Figure size 432x288 with 1 Axes>"
            ]
          },
          "metadata": {
            "needs_background": "light"
          }
        }
      ],
      "metadata": {
        "id": "v2IUyQZcaWh6",
        "colab": {
          "base_uri": "https://localhost:8080/",
          "height": 265
        },
        "outputId": "71ae878b-4481-4920-b09d-95878b2b6d4c"
      }
    },
    {
      "cell_type": "markdown",
      "source": [
        "#### Validation Set\n",
        "We create a validation set taking 10% of the training set.\n",
        "\n",
        "First, we have to define the exact number of examples that we want to be in each split of the training/validation sets."
      ],
      "metadata": {
        "id": "HDgsLY3k4O87"
      }
    },
    {
      "cell_type": "code",
      "execution_count": 15,
      "source": [
        "VALID_RATIO = 0.9\r\n",
        "\r\n",
        "n_train_examples = int(len(train_data_MNIST) * VALID_RATIO)\r\n",
        "n_valid_examples = len(train_data_MNIST) - n_train_examples"
      ],
      "outputs": [],
      "metadata": {
        "id": "2QI6JckYREve"
      }
    },
    {
      "cell_type": "markdown",
      "source": [
        "Then, we use the `random_split` function to take a random 10% of the training set to use as a validation set. The remaining 90% will stay as the training set."
      ],
      "metadata": {
        "id": "Be4vqf484O9A"
      }
    },
    {
      "cell_type": "code",
      "execution_count": 16,
      "source": [
        "train_data_MNIST, valid_data_MNIST = data.random_split(train_data_MNIST, \r\n",
        "                                           [n_train_examples, n_valid_examples])"
      ],
      "outputs": [],
      "metadata": {
        "id": "6yVJvPZ-RVvI"
      }
    },
    {
      "cell_type": "markdown",
      "source": [
        "We can print out the number of examples again to check our splits are correct."
      ],
      "metadata": {
        "id": "p8DYs4UE4O9E"
      }
    },
    {
      "cell_type": "code",
      "execution_count": 17,
      "source": [
        "print(f'Number of training examples: {len(train_data_MNIST)}')\r\n",
        "print(f'Number of validation examples: {len(valid_data_MNIST)}')\r\n",
        "print(f'Number of testing examples: {len(test_data_MNIST)}')"
      ],
      "outputs": [
        {
          "output_type": "stream",
          "name": "stdout",
          "text": [
            "Number of training examples: 54000\n",
            "Number of validation examples: 6000\n",
            "Number of testing examples: 10000\n"
          ]
        }
      ],
      "metadata": {
        "colab": {
          "base_uri": "https://localhost:8080/"
        },
        "id": "tBhHj9uaREvi",
        "outputId": "fe057545-4dde-4a57-e771-1697212164e8"
      }
    },
    {
      "cell_type": "code",
      "execution_count": 18,
      "source": [
        "VALID_RATIO = 0.9\r\n",
        "\r\n",
        "n_train_examples = int(len(train_data_CIFAR) * VALID_RATIO)\r\n",
        "n_valid_examples = len(train_data_CIFAR) - n_train_examples"
      ],
      "outputs": [],
      "metadata": {
        "id": "x-4PMmQ45tO6"
      }
    },
    {
      "cell_type": "code",
      "execution_count": 19,
      "source": [
        "train_data_CIFAR, valid_data_CIFAR = data.random_split(train_data_CIFAR, \r\n",
        "                                           [n_train_examples, n_valid_examples])"
      ],
      "outputs": [],
      "metadata": {
        "id": "-b1hVBE65tYl"
      }
    },
    {
      "cell_type": "code",
      "execution_count": 20,
      "source": [
        "print(f'Number of training examples: {len(train_data_CIFAR)}')\r\n",
        "print(f'Number of validation examples: {len(valid_data_CIFAR)}')\r\n",
        "print(f'Number of testing examples: {len(test_data_CIFAR)}')"
      ],
      "outputs": [
        {
          "output_type": "stream",
          "name": "stdout",
          "text": [
            "Number of training examples: 45000\n",
            "Number of validation examples: 5000\n",
            "Number of testing examples: 10000\n"
          ]
        }
      ],
      "metadata": {
        "colab": {
          "base_uri": "https://localhost:8080/"
        },
        "id": "BpoDD0HY5tg_",
        "outputId": "2209f4db-4747-46fe-ff39-f155649b72d8"
      }
    },
    {
      "cell_type": "code",
      "execution_count": 21,
      "source": [
        "valid_data_MNIST = copy.deepcopy(valid_data_MNIST)\r\n",
        "valid_data_MNIST.dataset.transform = test_transforms_MNIST"
      ],
      "outputs": [],
      "metadata": {
        "id": "M5LZxzXGcsNk"
      }
    },
    {
      "cell_type": "code",
      "execution_count": 22,
      "source": [
        "valid_data_CIFAR = copy.deepcopy(valid_data_CIFAR)\r\n",
        "valid_data_CIFAR.dataset.transform = test_transforms_CIFAR"
      ],
      "outputs": [],
      "metadata": {
        "id": "OeMHPzQRqbKX"
      }
    },
    {
      "cell_type": "markdown",
      "source": [
        "Next, we'll define a `DataLoader` for each of the training/validation/test sets. We can iterate over these and they will yield batches of images and labels which we can use to train our model.\n",
        "\n",
        "We only need to shuffle our training set as it will be used for stochastic gradient descent and we want the each batch to be different between epochs. As we aren't using the validation or test sets to update our model parameters they do not need to be shuffled.\n",
        "\n",
        "Ideally, we want to use the biggest batch size that we can. The 64 here is relatively small and can be increased if our hardware can handle it."
      ],
      "metadata": {
        "id": "C7vOeo1a4O9W"
      }
    },
    {
      "cell_type": "code",
      "execution_count": 23,
      "source": [
        "BATCH_SIZE = 64\r\n",
        "\r\n",
        "train_iterator_MNIST = data.DataLoader(train_data_MNIST, \r\n",
        "                                 shuffle = True, \r\n",
        "                                 batch_size = BATCH_SIZE)\r\n",
        "\r\n",
        "valid_iterator_MNIST = data.DataLoader(valid_data_MNIST, \r\n",
        "                                 batch_size = BATCH_SIZE)\r\n",
        "\r\n",
        "test_iterator_MNIST = data.DataLoader(test_data_MNIST, \r\n",
        "                                batch_size = BATCH_SIZE)"
      ],
      "outputs": [],
      "metadata": {
        "id": "sGdKSORpREvr"
      }
    },
    {
      "cell_type": "code",
      "execution_count": 24,
      "source": [
        "train_iterator_CIFAR = data.DataLoader(train_data_CIFAR, \r\n",
        "                                 shuffle = True, \r\n",
        "                                 batch_size = BATCH_SIZE)\r\n",
        "\r\n",
        "valid_iterator_CIFAR = data.DataLoader(valid_data_CIFAR, \r\n",
        "                                 batch_size = BATCH_SIZE)\r\n",
        "\r\n",
        "test_iterator_CIFAR = data.DataLoader(test_data_CIFAR, \r\n",
        "                                batch_size = BATCH_SIZE)"
      ],
      "outputs": [],
      "metadata": {
        "id": "FUX5n0vo9Vn8"
      }
    },
    {
      "cell_type": "markdown",
      "source": [
        "### Multi-Layer Perceptron\n",
        "We used a simple fully connected MLP to compare the results of with skip-connected networks. Each network consists of an input layer, an output layer and list of hidden layers. The layers have a uniform number of neurons per layer.\n",
        "\n",
        "Each different network model has the following common input arguments:\n",
        "- *in_dim*: Dimensions of input vector (28x28 for MNIST, 32x32 for CIFAR-10)\n",
        "- *out_dim*: Dimensions of final output vector/number of classes (10 for MNIST, CIFAR-10)\n",
        "- *n_layers*: Number of hidden layers, default=14. Total layers is 2 more\n",
        "- *n_nodes*: Number of neurons in each layer, default=100\n",
        "\n",
        "![](https://miro.medium.com/max/565/1*jfEsZoTqJ6W_6tE1wMCdhQ.jpeg)"
      ],
      "metadata": {
        "id": "KZuPIyvN4O9b"
      }
    },
    {
      "cell_type": "code",
      "execution_count": 25,
      "source": [
        "class MLP(nn.Module):\r\n",
        "    def __init__(self, in_dim, out_dim, n_layers=14, n_nodes=100):\r\n",
        "        super().__init__()\r\n",
        "        \r\n",
        "        # Model Architecture\r\n",
        "        self.in_layer = nn.Linear(in_dim, n_nodes) # Input Layer - flattened image data\r\n",
        "        self.hidden_layers = nn.ModuleList([nn.Linear(n_nodes, n_nodes) for i in range(n_layers)]) # List of hidden layers\r\n",
        "        self.out_layer = nn.Linear(n_nodes, out_dim) # Final layer that gives the classification\r\n",
        "\r\n",
        "    def forward(self, x):\r\n",
        "        # Configuring input dimensions\r\n",
        "        batch_size = x.shape[0]\r\n",
        "        x = x.view(batch_size, -1)\r\n",
        "        \r\n",
        "        # Looping over all the layers\r\n",
        "        x = F.relu(self.in_layer(x))\r\n",
        "        for i,apply_layer in enumerate(self.hidden_layers):\r\n",
        "            x = F.relu(apply_layer(x))\r\n",
        "        y_pred = self.out_layer(x)\r\n",
        "        return y_pred,1"
      ],
      "outputs": [],
      "metadata": {
        "id": "sjcGVXhWor1z"
      }
    },
    {
      "cell_type": "markdown",
      "source": [
        "## Skip Connections\r\n",
        "Skip connections are extra connections between layers that is used to feed the output of one layer to the input of next layers skipping layers in between. Skip connections were introduced to solve degradation problems and enhance feature reusability. There are three widely-used variants: ResNet, DenseNet and UNet. We have implemented ResNet and DenseNet on an MLP model below.\r\n",
        "\r\n",
        "Further, for each variant, we construct 3 different architectures:\r\n",
        "- OneSkip: We skip one intermediate layer for each layer in the network\r\n",
        "- SourceSkip: We connect the input layer (or first hidden layer) to each layer in the network\r\n",
        "- FullSkip: Each layer is fully connected to every other layer by skips\r\n",
        "\r\n",
        "![](https://github.com/rochishnub/Skip-Connections/blob/main/images/Untitled%20Diagram.jpg?raw=true)"
      ],
      "metadata": {
        "id": "S4LBoNHXsy14"
      }
    },
    {
      "cell_type": "markdown",
      "source": [
        "#### DenseNets\n",
        "In DenseNets, the output of a layer is concatenated with the input to the next layer. Thus the input dimensions increase along the network for DenseNets, whereas for ResNets they remain the same. Due to concatenations the features of previous layers are carried on to the next layers. Our implementation is similar to ResNet.\n",
        "\n",
        "![](https://pytorch.org/assets/images/densenet1.png)"
      ],
      "metadata": {
        "id": "MbcYh5Pt28aK"
      }
    },
    {
      "cell_type": "code",
      "execution_count": 26,
      "source": [
        "class OneSkipDN(nn.Module):\r\n",
        "    def __init__(self, in_dim, out_dim, n_layers=14, n_nodes=100):\r\n",
        "        super().__init__()\r\n",
        "        \r\n",
        "        self.in_layer = nn.Linear(in_dim, n_nodes)\r\n",
        "        self.next_layer = nn.Linear(in_dim+n_nodes, n_nodes)\r\n",
        "        self.hidden_layers = nn.ModuleList([nn.Linear(2*n_nodes, n_nodes) for i in range(n_layers-1)])\r\n",
        "        self.out_layer = nn.Linear(2*n_nodes, out_dim)\r\n",
        "\r\n",
        "    def forward(self, x):\r\n",
        "        batch_size = x.shape[0]\r\n",
        "        x = x.view(batch_size, -1)\r\n",
        "\r\n",
        "        out_skip = F.relu(self.in_layer(x))\r\n",
        "        out_dir = F.relu(self.next_layer(torch.cat((x,out_skip), 1)))\r\n",
        "\r\n",
        "        for _,apply_layer in enumerate(self.hidden_layers):\r\n",
        "            out_temp = out_skip\r\n",
        "            out_skip = out_dir\r\n",
        "            out_dir = F.relu(apply_layer(torch.cat((out_skip, out_temp), 1)))\r\n",
        "        \r\n",
        "        y_pred = self.out_layer(torch.cat((out_skip, out_dir), 1))\r\n",
        "        return y_pred,1"
      ],
      "outputs": [],
      "metadata": {
        "id": "RDYVbfmYorrg"
      }
    },
    {
      "cell_type": "code",
      "execution_count": 27,
      "source": [
        "class SourceSkipDN(nn.Module):\r\n",
        "    def __init__(self, in_dim, out_dim, n_layers=14, n_nodes=100):\r\n",
        "        super().__init__()\r\n",
        "        \r\n",
        "        self.in_layer = nn.Linear(in_dim, n_nodes)\r\n",
        "        self.hidden_layers = nn.ModuleList([nn.Linear(in_dim+n_nodes, n_nodes) for i in range(n_layers)])\r\n",
        "        self.out_layer = nn.Linear(in_dim+n_nodes, out_dim)\r\n",
        "\r\n",
        "    def forward(self, x):\r\n",
        "        batch_size = x.shape[0]\r\n",
        "        x = x.view(batch_size, -1)\r\n",
        "\r\n",
        "        out_dir = F.relu(self.in_layer(x))\r\n",
        "        for _,apply_layer in enumerate(self.hidden_layers):\r\n",
        "            out_dir = F.relu(apply_layer(torch.cat((out_dir, x), 1)))\r\n",
        "        y_pred = self.out_layer(torch.cat((out_dir, x), 1))\r\n",
        "        return y_pred,1"
      ],
      "outputs": [],
      "metadata": {
        "id": "T6Trfo5xorek"
      }
    },
    {
      "cell_type": "code",
      "execution_count": 28,
      "source": [
        "class FullSkipDN(nn.Module):\r\n",
        "    def __init__(self, in_dim, out_dim, n_layers=14, n_nodes=100):\r\n",
        "        super().__init__()\r\n",
        "        \r\n",
        "        self.in_layer = nn.Linear(in_dim, n_nodes)\r\n",
        "        self.hidden_layers = nn.ModuleList([nn.Linear(in_dim+(i*n_nodes), n_nodes) for i in range(1,n_layers+1)])\r\n",
        "        self.out_layer = nn.Linear(in_dim+((n_layers+1)*n_nodes), out_dim)\r\n",
        "\r\n",
        "    def forward(self, x):\r\n",
        "        batch_size = x.shape[0]\r\n",
        "        x = x.view(batch_size, -1)\r\n",
        "\r\n",
        "        out_skips = [x]\r\n",
        "        out_skips.append(F.relu(self.in_layer(x)))\r\n",
        "\r\n",
        "        for _,apply_layer in enumerate(self.hidden_layers):\r\n",
        "            nxt_out = F.relu(apply_layer(torch.cat(out_skips, 1)))\r\n",
        "            out_skips.append(nxt_out)\r\n",
        "        y_pred = self.out_layer(torch.cat(out_skips, 1))\r\n",
        "        return y_pred,1"
      ],
      "outputs": [],
      "metadata": {
        "id": "8TryfeIqorM6"
      }
    },
    {
      "cell_type": "markdown",
      "source": [
        "#### ResNets\n",
        "Residual Nets (ResNet) follow the principle of having residual blocks where the the skipped input is vectorially added to the next layer. In our implementation, each layer depicts a residual block. The number of features in the hidden layers are kept uniform to make addition of vectors easier.\n",
        "\n",
        "![](https://neurohive.io/wp-content/uploads/2019/01/resnet-e1548261477164.png)"
      ],
      "metadata": {
        "id": "i56oyLXY3YMK"
      }
    },
    {
      "cell_type": "code",
      "execution_count": 29,
      "source": [
        "class OneSkipRN(nn.Module):\r\n",
        "    def __init__(self, in_dim, out_dim, n_layers=14, n_nodes=100):\r\n",
        "        super().__init__()\r\n",
        "        \r\n",
        "        self.in_layer = nn.Linear(in_dim, n_nodes)\r\n",
        "        self.next_layer = nn.Linear(n_nodes, n_nodes)\r\n",
        "        self.hidden_layers = nn.ModuleList([nn.Linear(n_nodes, n_nodes) for i in range(n_layers-1)])\r\n",
        "        self.out_layer = nn.Linear(n_nodes, out_dim)\r\n",
        "\r\n",
        "    def forward(self, x):\r\n",
        "        batch_size = x.shape[0]\r\n",
        "        x = x.view(batch_size, -1)\r\n",
        "\r\n",
        "        out_skip = F.relu(self.in_layer(x))\r\n",
        "        out_dir = F.relu(self.next_layer(out_skip))\r\n",
        "\r\n",
        "        for _,apply_layer in enumerate(self.hidden_layers):\r\n",
        "            out_temp = out_skip\r\n",
        "            out_skip = out_dir\r\n",
        "            out_dir = F.relu(apply_layer(out_temp+out_skip))\r\n",
        "        \r\n",
        "        y_pred = self.out_layer(out_skip+out_dir)\r\n",
        "        return y_pred,1"
      ],
      "outputs": [],
      "metadata": {
        "id": "kXV2Ytd6oqIQ"
      }
    },
    {
      "cell_type": "code",
      "execution_count": 30,
      "source": [
        "class SourceSkipRN(nn.Module):\r\n",
        "    def __init__(self, in_dim, out_dim, n_layers=14, n_nodes=100):\r\n",
        "        super().__init__()\r\n",
        "        \r\n",
        "        self.in_layer = nn.Linear(in_dim, n_nodes)\r\n",
        "        self.next_layer = nn.Linear(n_nodes, n_nodes)\r\n",
        "        self.hidden_layers = nn.ModuleList([nn.Linear(n_nodes, n_nodes) for i in range(n_layers-1)])\r\n",
        "        self.out_layer = nn.Linear(n_nodes, out_dim)\r\n",
        "\r\n",
        "    def forward(self, x):\r\n",
        "        batch_size = x.shape[0]\r\n",
        "        x = x.view(batch_size, -1)\r\n",
        "\r\n",
        "        out_skip = F.relu(self.in_layer(x))\r\n",
        "        out_dir = F.relu(self.next_layer(out_skip))\r\n",
        "\r\n",
        "        for _,apply_layer in enumerate(self.hidden_layers):\r\n",
        "            out_dir = F.relu(apply_layer(out_dir+out_skip))\r\n",
        "        \r\n",
        "        y_pred = self.out_layer(out_skip+out_dir)\r\n",
        "        return y_pred,1"
      ],
      "outputs": [],
      "metadata": {
        "id": "LQi7lbJlope8"
      }
    },
    {
      "cell_type": "code",
      "execution_count": 31,
      "source": [
        "class FullSkipRN(nn.Module):\r\n",
        "    def __init__(self, in_dim, out_dim, n_layers=14, n_nodes=100):\r\n",
        "        super().__init__()\r\n",
        "        \r\n",
        "        self.in_layer = nn.Linear(in_dim, n_nodes)\r\n",
        "        self.next_layer = nn.Linear(n_nodes, n_nodes)\r\n",
        "        self.hidden_layers = nn.ModuleList([nn.Linear(n_nodes, n_nodes) for i in range(n_layers-1)])\r\n",
        "        self.out_layer = nn.Linear(n_nodes, out_dim)\r\n",
        "\r\n",
        "    def forward(self, x):\r\n",
        "        batch_size = x.shape[0]\r\n",
        "        x = x.view(batch_size, -1)\r\n",
        "\r\n",
        "        x = F.relu(self.in_layer(x))\r\n",
        "        out_skips = [x]\r\n",
        "        out_skips.append(F.relu(self.next_layer(x)))\r\n",
        "\r\n",
        "        for _,apply_layer in enumerate(self.hidden_layers):\r\n",
        "            nxt_out = F.relu(apply_layer(sum(out_skips)))\r\n",
        "            out_skips.append(nxt_out)\r\n",
        "        \r\n",
        "        y_pred = self.out_layer(sum(out_skips))\r\n",
        "        return y_pred,1"
      ],
      "outputs": [],
      "metadata": {
        "id": "m1AAJYHgopH0"
      }
    },
    {
      "cell_type": "markdown",
      "source": [
        "### Helper Functions\n",
        "\n",
        "We can create a small function to calculate the number of trainable parameters (weights and biases) in our model - in case all of our parameters are trainable."
      ],
      "metadata": {
        "id": "F3bacWHd4O9j"
      }
    },
    {
      "cell_type": "code",
      "execution_count": 32,
      "source": [
        "def count_parameters(model):\r\n",
        "    return sum(p.numel() for p in model.parameters() if p.requires_grad)"
      ],
      "outputs": [],
      "metadata": {
        "id": "1gF2fmTBREv8"
      }
    },
    {
      "cell_type": "markdown",
      "source": [
        "Next, we'll define a function to calculate the accuracy of our model. This takes the index of the highest value for your prediction and compares it against the actual class label. We then divide how many our model got correct by the amount in the batch to calculate accuracy across the batch."
      ],
      "metadata": {
        "id": "Bd0F_7i_4O-M"
      }
    },
    {
      "cell_type": "code",
      "execution_count": 33,
      "source": [
        "def calculate_accuracy(y_pred, y):\r\n",
        "    top_pred = y_pred.argmax(1, keepdim = True)\r\n",
        "    correct = top_pred.eq(y.view_as(top_pred)).sum()\r\n",
        "    acc = correct.float() / y.shape[0]\r\n",
        "    return acc"
      ],
      "outputs": [],
      "metadata": {
        "id": "VkttGrmkREwP"
      }
    },
    {
      "cell_type": "markdown",
      "source": [
        "We finally define our training loop.\n",
        "\n",
        "This will:\n",
        "- put our model into `train` mode\n",
        "- iterate over our dataloader, returning batches of (image, label)\n",
        "- place the batch on to our GPU, if we have one\n",
        "- clear the gradients calculated from the last batch\n",
        "- pass our batch of images, `x`, through to model to get predictions, `y_pred`\n",
        "- calculate the loss between our predictions and the actual labels\n",
        "- calculate the accuracy between our predictions and the actual labels\n",
        "- calculate the gradients of each parameter\n",
        "- update the parameters by taking an optimizer step\n",
        "- update our metrics\n",
        "\n",
        "Some layers act differently when training and evaluating the model that contains them, hence why we must tell our model we are in \"training\" mode. The model we are using here does not use any of those layers, however it is good practice to get used to putting your model in training mode."
      ],
      "metadata": {
        "id": "d3T0oPWh4O-R"
      }
    },
    {
      "cell_type": "code",
      "execution_count": 34,
      "source": [
        "def train(model, iterator, optimizer, criterion, device):\r\n",
        "    \r\n",
        "    epoch_loss = 0\r\n",
        "    epoch_acc = 0\r\n",
        "    \r\n",
        "    model.train()\r\n",
        "    \r\n",
        "    for (x, y) in iterator:\r\n",
        "        \r\n",
        "        x = x.to(device)\r\n",
        "        y = y.to(device)\r\n",
        "        \r\n",
        "        optimizer.zero_grad()\r\n",
        "                \r\n",
        "        y_pred, _ = model(x)\r\n",
        "        \r\n",
        "        loss = criterion(y_pred, y)\r\n",
        "        \r\n",
        "        acc = calculate_accuracy(y_pred, y)\r\n",
        "        \r\n",
        "        loss.backward()\r\n",
        "        \r\n",
        "        optimizer.step()\r\n",
        "        \r\n",
        "        epoch_loss += loss.item()\r\n",
        "        epoch_acc += acc.item()\r\n",
        "        \r\n",
        "    return epoch_loss / len(iterator), epoch_acc / len(iterator)"
      ],
      "outputs": [],
      "metadata": {
        "id": "0kCtKBMfREwS"
      }
    },
    {
      "cell_type": "markdown",
      "source": [
        "The evaluation loop is similar to the training loop. The differences are:\n",
        "- we put our model into evaluation mode with `model.eval()`\n",
        "- we wrap the iterations inside a `with torch.no_grad()`\n",
        "- we do not zero gradients as we are not calculating any\n",
        "- we do not calculate gradients as we are not updating parameters\n",
        "- we do not take an optimizer step as we are not calculating gradients\n",
        "\n",
        "`torch.no_grad()` ensures that gradients are not calculated for whatever is inside the `with` block. As our model will not have to calculate gradients it will be faster and use less memory. "
      ],
      "metadata": {
        "id": "9kuF4-Cx4O-X"
      }
    },
    {
      "cell_type": "code",
      "execution_count": 35,
      "source": [
        "def evaluate(model, iterator, criterion, device):\r\n",
        "    \r\n",
        "    epoch_loss = 0\r\n",
        "    epoch_acc = 0\r\n",
        "    \r\n",
        "    model.eval()\r\n",
        "    \r\n",
        "    with torch.no_grad():\r\n",
        "        \r\n",
        "        for (x, y) in iterator:\r\n",
        "\r\n",
        "            x = x.to(device)\r\n",
        "            y = y.to(device)\r\n",
        "\r\n",
        "            y_pred, _ = model(x)\r\n",
        "\r\n",
        "            loss = criterion(y_pred, y)\r\n",
        "\r\n",
        "            acc = calculate_accuracy(y_pred, y)\r\n",
        "\r\n",
        "            epoch_loss += loss.item()\r\n",
        "            epoch_acc += acc.item()\r\n",
        "        \r\n",
        "    return epoch_loss / len(iterator), epoch_acc / len(iterator)"
      ],
      "outputs": [],
      "metadata": {
        "id": "3XL4sRI8REwV"
      }
    },
    {
      "cell_type": "markdown",
      "source": [
        "The final step before training is to define a small function to tell us how long an epoch took."
      ],
      "metadata": {
        "id": "dySDirym4O-c"
      }
    },
    {
      "cell_type": "code",
      "execution_count": 36,
      "source": [
        "def epoch_time(start_time, end_time):\r\n",
        "    elapsed_time = end_time - start_time\r\n",
        "    elapsed_mins = int(elapsed_time / 60)\r\n",
        "    elapsed_secs = int(elapsed_time - (elapsed_mins * 60))\r\n",
        "    return elapsed_mins, elapsed_secs"
      ],
      "outputs": [],
      "metadata": {
        "id": "ENrsvnEZREwZ"
      }
    },
    {
      "cell_type": "markdown",
      "source": [
        "### Training MLP on MNIST\n",
        "\n",
        "We'll define our model by creating an instance of it and setting the correct input and output dimensions."
      ],
      "metadata": {
        "id": "FgPqWhK-4O9f"
      }
    },
    {
      "cell_type": "code",
      "execution_count": 37,
      "source": [
        "INPUT_DIM = 28 * 28\r\n",
        "OUTPUT_DIM = 10\r\n",
        "\r\n",
        "model = MLP(INPUT_DIM, OUTPUT_DIM)"
      ],
      "outputs": [],
      "metadata": {
        "id": "3Ew0aobVREv0"
      }
    },
    {
      "cell_type": "code",
      "execution_count": 38,
      "source": [
        "# Not needed\r\n",
        "print(f'The model has {count_parameters(model):,} trainable parameters')"
      ],
      "outputs": [
        {
          "output_type": "stream",
          "name": "stdout",
          "text": [
            "The model has 220,910 trainable parameters\n"
          ]
        }
      ],
      "metadata": {
        "colab": {
          "base_uri": "https://localhost:8080/"
        },
        "id": "8N1iy4Sji4jl",
        "outputId": "f385bd93-a6b9-40c4-f83a-7296ce73b0b5"
      }
    },
    {
      "cell_type": "markdown",
      "source": [
        "Next, we'll define our optimizer.\r\n",
        "We use the *Adam* algorithm with the default parameters to update our model. \r\n",
        "\r\n",
        "Then, we define a *criterion*, PyTorch's name for a loss/cost/error function. This function will take in your model's predictions with the actual labels and then compute the loss/cost/error of your model with its current parameters.\r\n",
        "\r\n",
        "`CrossEntropyLoss` both computes the *softmax* activation function on the supplied predictions as well as the actual loss via *negative log likelihood*. \r\n",
        "\r\n",
        "We then define `device`. This is used to place your model and data on to a GPU, if you have one.\r\n",
        "\r\n",
        "We place our model and criterion on to the device by using the `.to` method.\r\n",
        "\r\n",
        "We're finally ready to train!\r\n",
        "\r\n",
        "During each epoch we calculate the training loss and accuracy, followed by the validation loss and accuracy. We then check if the validation loss achieved is the best validation loss we have seen. If so, we save our model's parameters (called a `state_dict`)."
      ],
      "metadata": {
        "id": "IiL9hZqX4O9x"
      }
    },
    {
      "cell_type": "code",
      "execution_count": 39,
      "source": [
        "optimizer = optim.Adam(model.parameters())\r\n",
        "criterion = nn.CrossEntropyLoss()\r\n",
        "device = torch.device('cuda' if torch.cuda.is_available() else 'cpu')\r\n",
        "model = model.to(device)\r\n",
        "criterion = criterion.to(device)\r\n",
        "\r\n",
        "EPOCHS = 10\r\n",
        "\r\n",
        "MLP_MNIST_loss = []\r\n",
        "MLP_MNIST_acc = []\r\n",
        "\r\n",
        "best_valid_loss = float('inf')\r\n",
        "\r\n",
        "for epoch in range(EPOCHS):\r\n",
        "    \r\n",
        "    start_time = time.monotonic()\r\n",
        "    \r\n",
        "    train_loss, train_acc = train(model, train_iterator_MNIST, optimizer, criterion, device)\r\n",
        "    valid_loss, valid_acc = evaluate(model, valid_iterator_MNIST, criterion, device)\r\n",
        "\r\n",
        "    MLP_MNIST_loss.append(train_loss)\r\n",
        "    MLP_MNIST_acc.append(train_acc)\r\n",
        "    \r\n",
        "    if valid_loss < best_valid_loss:\r\n",
        "        best_valid_loss = valid_loss\r\n",
        "        torch.save(model.state_dict(), 'MLP_model_MNIST.pt')\r\n",
        "    \r\n",
        "    end_time = time.monotonic()\r\n",
        "\r\n",
        "    epoch_mins, epoch_secs = epoch_time(start_time, end_time)\r\n",
        "    \r\n",
        "    print(f'Epoch: {epoch+1:02} | Epoch Time: {epoch_mins}m {epoch_secs}s')\r\n",
        "    print(f'\\tTrain Loss: {train_loss:.3f} | Train Acc: {train_acc*100:.2f}%')\r\n",
        "    print(f'\\t Val. Loss: {valid_loss:.3f} |  Val. Acc: {valid_acc*100:.2f}%')"
      ],
      "outputs": [
        {
          "output_type": "stream",
          "name": "stdout",
          "text": [
            "Epoch: 01 | Epoch Time: 0m 31s\n",
            "\tTrain Loss: 1.437 | Train Acc: 41.64%\n",
            "\t Val. Loss: 0.913 |  Val. Acc: 69.53%\n",
            "Epoch: 02 | Epoch Time: 0m 30s\n",
            "\tTrain Loss: 0.878 | Train Acc: 68.89%\n",
            "\t Val. Loss: 0.512 |  Val. Acc: 80.05%\n",
            "Epoch: 03 | Epoch Time: 0m 30s\n",
            "\tTrain Loss: 0.490 | Train Acc: 84.24%\n",
            "\t Val. Loss: 0.276 |  Val. Acc: 92.64%\n",
            "Epoch: 04 | Epoch Time: 0m 31s\n",
            "\tTrain Loss: 0.340 | Train Acc: 90.63%\n",
            "\t Val. Loss: 0.233 |  Val. Acc: 93.64%\n",
            "Epoch: 05 | Epoch Time: 0m 32s\n",
            "\tTrain Loss: 0.323 | Train Acc: 91.41%\n",
            "\t Val. Loss: 0.229 |  Val. Acc: 93.98%\n",
            "Epoch: 06 | Epoch Time: 0m 34s\n",
            "\tTrain Loss: 0.256 | Train Acc: 93.17%\n",
            "\t Val. Loss: 0.175 |  Val. Acc: 95.26%\n",
            "Epoch: 07 | Epoch Time: 0m 29s\n",
            "\tTrain Loss: 0.245 | Train Acc: 93.61%\n",
            "\t Val. Loss: 0.163 |  Val. Acc: 95.74%\n",
            "Epoch: 08 | Epoch Time: 0m 29s\n",
            "\tTrain Loss: 0.248 | Train Acc: 93.73%\n",
            "\t Val. Loss: 0.157 |  Val. Acc: 95.96%\n",
            "Epoch: 09 | Epoch Time: 0m 30s\n",
            "\tTrain Loss: 0.221 | Train Acc: 94.33%\n",
            "\t Val. Loss: 0.147 |  Val. Acc: 96.12%\n",
            "Epoch: 10 | Epoch Time: 0m 31s\n",
            "\tTrain Loss: 0.205 | Train Acc: 94.75%\n",
            "\t Val. Loss: 0.150 |  Val. Acc: 96.28%\n"
          ]
        }
      ],
      "metadata": {
        "colab": {
          "base_uri": "https://localhost:8080/"
        },
        "id": "p-gtfzafREwc",
        "outputId": "3c625306-3e48-47fb-d154-4c82fd406a6f"
      }
    },
    {
      "cell_type": "markdown",
      "source": [
        "### Testing MLP on MNIST\n",
        "Afterwards, we load our the parameters of the model that achieved the best validation loss and then use this to evaluate our model on the test set."
      ],
      "metadata": {
        "id": "bBYcKw8Y4O-k"
      }
    },
    {
      "cell_type": "code",
      "execution_count": 40,
      "source": [
        "model.load_state_dict(torch.load('MLP_model_MNIST.pt'))\r\n",
        "test_loss, test_acc = evaluate(model, test_iterator_MNIST, criterion, device)\r\n",
        "\r\n",
        "MNIST_test_loss = [test_loss]\r\n",
        "MNIST_test_acc = [test_acc]"
      ],
      "outputs": [],
      "metadata": {
        "id": "VGDeNGLhREwf"
      }
    },
    {
      "cell_type": "code",
      "execution_count": 41,
      "source": [
        "print(f'Test Loss: {test_loss:.3f} | Test Acc: {test_acc*100:.2f}%')"
      ],
      "outputs": [
        {
          "output_type": "stream",
          "name": "stdout",
          "text": [
            "Test Loss: 0.140 | Test Acc: 96.48%\n"
          ]
        }
      ],
      "metadata": {
        "colab": {
          "base_uri": "https://localhost:8080/"
        },
        "id": "WrRhzovQRho5",
        "outputId": "586d0757-5c0b-45f8-bdc0-8d0d2203944c"
      }
    },
    {
      "cell_type": "markdown",
      "source": [
        "### Training OneSkipDN on MNIST"
      ],
      "metadata": {
        "id": "7vCz0gAgtuhg"
      }
    },
    {
      "cell_type": "code",
      "execution_count": null,
      "source": [
        "INPUT_DIM = 28 * 28\r\n",
        "OUTPUT_DIM = 10\r\n",
        "\r\n",
        "model = OneSkipDN(INPUT_DIM, OUTPUT_DIM)"
      ],
      "outputs": [],
      "metadata": {
        "id": "8IRK5JVtuBEI"
      }
    },
    {
      "cell_type": "code",
      "execution_count": 44,
      "source": [
        "optimizer = optim.Adam(model.parameters())\r\n",
        "criterion = nn.CrossEntropyLoss()\r\n",
        "device = torch.device('cuda' if torch.cuda.is_available() else 'cpu')\r\n",
        "model = model.to(device)\r\n",
        "criterion = criterion.to(device)\r\n",
        "\r\n",
        "EPOCHS = 10\r\n",
        "\r\n",
        "OSD_MNIST_loss = []\r\n",
        "OSD_MNIST_acc = []\r\n",
        "\r\n",
        "best_valid_loss = float('inf')\r\n",
        "\r\n",
        "for epoch in range(EPOCHS):\r\n",
        "    \r\n",
        "    start_time = time.monotonic()\r\n",
        "    \r\n",
        "    train_loss, train_acc = train(model, train_iterator_MNIST, optimizer, criterion, device)\r\n",
        "    valid_loss, valid_acc = evaluate(model, valid_iterator_MNIST, criterion, device)\r\n",
        "\r\n",
        "    OSD_MNIST_loss.append(train_loss)\r\n",
        "    OSD_MNIST_acc.append(train_acc)\r\n",
        "\r\n",
        "    if valid_loss < best_valid_loss:\r\n",
        "        best_valid_loss = valid_loss\r\n",
        "        torch.save(model.state_dict(), 'OSD_model_MNIST.pt')\r\n",
        "    \r\n",
        "    end_time = time.monotonic()\r\n",
        "\r\n",
        "    epoch_mins, epoch_secs = epoch_time(start_time, end_time)\r\n",
        "    \r\n",
        "    print(f'Epoch: {epoch+1:02} | Epoch Time: {epoch_mins}m {epoch_secs}s')\r\n",
        "    print(f'\\tTrain Loss: {train_loss:.3f} | Train Acc: {train_acc*100:.2f}%')\r\n",
        "    print(f'\\t Val. Loss: {valid_loss:.3f} |  Val. Acc: {valid_acc*100:.2f}%')"
      ],
      "outputs": [
        {
          "output_type": "stream",
          "name": "stdout",
          "text": [
            "Epoch: 01 | Epoch Time: 0m 29s\n",
            "\tTrain Loss: 0.214 | Train Acc: 94.63%\n",
            "\t Val. Loss: 0.185 |  Val. Acc: 95.25%\n",
            "Epoch: 02 | Epoch Time: 0m 42s\n",
            "\tTrain Loss: 0.203 | Train Acc: 94.85%\n",
            "\t Val. Loss: 0.156 |  Val. Acc: 96.15%\n",
            "Epoch: 03 | Epoch Time: 0m 32s\n",
            "\tTrain Loss: 0.229 | Train Acc: 94.25%\n",
            "\t Val. Loss: 0.684 |  Val. Acc: 84.78%\n",
            "Epoch: 04 | Epoch Time: 0m 30s\n",
            "\tTrain Loss: 0.242 | Train Acc: 93.78%\n",
            "\t Val. Loss: 0.133 |  Val. Acc: 96.71%\n",
            "Epoch: 05 | Epoch Time: 0m 28s\n",
            "\tTrain Loss: 0.189 | Train Acc: 95.03%\n",
            "\t Val. Loss: 0.161 |  Val. Acc: 95.87%\n",
            "Epoch: 06 | Epoch Time: 0m 28s\n",
            "\tTrain Loss: 0.173 | Train Acc: 95.46%\n",
            "\t Val. Loss: 0.144 |  Val. Acc: 95.96%\n",
            "Epoch: 07 | Epoch Time: 0m 28s\n",
            "\tTrain Loss: 0.207 | Train Acc: 94.71%\n",
            "\t Val. Loss: 0.155 |  Val. Acc: 96.05%\n",
            "Epoch: 08 | Epoch Time: 0m 28s\n",
            "\tTrain Loss: 0.178 | Train Acc: 95.40%\n",
            "\t Val. Loss: 0.132 |  Val. Acc: 96.45%\n",
            "Epoch: 09 | Epoch Time: 0m 29s\n",
            "\tTrain Loss: 0.177 | Train Acc: 95.47%\n",
            "\t Val. Loss: 0.149 |  Val. Acc: 96.02%\n",
            "Epoch: 10 | Epoch Time: 0m 28s\n",
            "\tTrain Loss: 0.186 | Train Acc: 95.25%\n",
            "\t Val. Loss: 0.121 |  Val. Acc: 96.93%\n"
          ]
        }
      ],
      "metadata": {
        "colab": {
          "base_uri": "https://localhost:8080/"
        },
        "id": "ysP657qarame",
        "outputId": "6ef75b48-f723-4042-99d9-620274d15c51"
      }
    },
    {
      "cell_type": "markdown",
      "source": [
        "### Testing OneSkipDN on MNIST"
      ],
      "metadata": {
        "id": "R3IkUeu1ukWT"
      }
    },
    {
      "cell_type": "code",
      "execution_count": 45,
      "source": [
        "model.load_state_dict(torch.load('OSD_model_MNIST.pt'))\r\n",
        "\r\n",
        "test_loss, test_acc = evaluate(model, test_iterator_MNIST, criterion, device)\r\n",
        "MNIST_test_loss.append(test_loss)\r\n",
        "MNIST_test_acc.append(test_acc)"
      ],
      "outputs": [],
      "metadata": {
        "id": "n40pVIi9ujCC"
      }
    },
    {
      "cell_type": "code",
      "execution_count": 46,
      "source": [
        "print(f'Test Loss: {test_loss:.3f} | Test Acc: {test_acc*100:.2f}%')"
      ],
      "outputs": [
        {
          "output_type": "stream",
          "name": "stdout",
          "text": [
            "Test Loss: 0.113 | Test Acc: 97.24%\n"
          ]
        }
      ],
      "metadata": {
        "colab": {
          "base_uri": "https://localhost:8080/"
        },
        "id": "dgjikiDbvgOI",
        "outputId": "13d38bf5-3e3d-472b-816f-2ce2d188b457"
      }
    },
    {
      "cell_type": "markdown",
      "source": [
        "### Training SourceSkipDN on MNIST"
      ],
      "metadata": {
        "id": "dfyejxT4vknP"
      }
    },
    {
      "cell_type": "code",
      "execution_count": 47,
      "source": [
        "INPUT_DIM = 28 * 28\r\n",
        "OUTPUT_DIM = 10\r\n",
        "\r\n",
        "model = SourceSkipDN(INPUT_DIM, OUTPUT_DIM)"
      ],
      "outputs": [],
      "metadata": {
        "id": "9ah2YF5TvjdL"
      }
    },
    {
      "cell_type": "code",
      "execution_count": 48,
      "source": [
        "optimizer = optim.Adam(model.parameters())\r\n",
        "criterion = nn.CrossEntropyLoss()\r\n",
        "device = torch.device('cuda' if torch.cuda.is_available() else 'cpu')\r\n",
        "model = model.to(device)\r\n",
        "criterion = criterion.to(device)\r\n",
        "\r\n",
        "EPOCHS = 10\r\n",
        "\r\n",
        "SSD_MNIST_loss = []\r\n",
        "SSD_MNIST_acc = []\r\n",
        "\r\n",
        "best_valid_loss = float('inf')\r\n",
        "\r\n",
        "for epoch in range(EPOCHS):\r\n",
        "    \r\n",
        "    start_time = time.monotonic()\r\n",
        "    \r\n",
        "    train_loss, train_acc = train(model, train_iterator_MNIST, optimizer, criterion, device)\r\n",
        "    valid_loss, valid_acc = evaluate(model, valid_iterator_MNIST, criterion, device)\r\n",
        "    \r\n",
        "    SSD_MNIST_loss.append(train_loss)\r\n",
        "    SSD_MNIST_acc.append(train_acc)\r\n",
        "\r\n",
        "    if valid_loss < best_valid_loss:\r\n",
        "        best_valid_loss = valid_loss\r\n",
        "        torch.save(model.state_dict(), 'SSD_model_MNIST.pt')\r\n",
        "    \r\n",
        "    end_time = time.monotonic()\r\n",
        "\r\n",
        "    epoch_mins, epoch_secs = epoch_time(start_time, end_time)\r\n",
        "    \r\n",
        "    print(f'Epoch: {epoch+1:02} | Epoch Time: {epoch_mins}m {epoch_secs}s')\r\n",
        "    print(f'\\tTrain Loss: {train_loss:.3f} | Train Acc: {train_acc*100:.2f}%')\r\n",
        "    print(f'\\t Val. Loss: {valid_loss:.3f} |  Val. Acc: {valid_acc*100:.2f}%')"
      ],
      "outputs": [
        {
          "output_type": "stream",
          "name": "stdout",
          "text": [
            "Epoch: 01 | Epoch Time: 0m 47s\n",
            "\tTrain Loss: 0.432 | Train Acc: 86.48%\n",
            "\t Val. Loss: 0.152 |  Val. Acc: 95.08%\n",
            "Epoch: 02 | Epoch Time: 0m 44s\n",
            "\tTrain Loss: 0.192 | Train Acc: 94.07%\n",
            "\t Val. Loss: 0.139 |  Val. Acc: 95.62%\n",
            "Epoch: 03 | Epoch Time: 0m 45s\n",
            "\tTrain Loss: 0.154 | Train Acc: 95.39%\n",
            "\t Val. Loss: 0.101 |  Val. Acc: 96.89%\n",
            "Epoch: 04 | Epoch Time: 0m 44s\n",
            "\tTrain Loss: 0.134 | Train Acc: 95.88%\n",
            "\t Val. Loss: 0.113 |  Val. Acc: 96.53%\n",
            "Epoch: 05 | Epoch Time: 0m 44s\n",
            "\tTrain Loss: 0.127 | Train Acc: 96.05%\n",
            "\t Val. Loss: 0.078 |  Val. Acc: 97.24%\n",
            "Epoch: 06 | Epoch Time: 0m 42s\n",
            "\tTrain Loss: 0.113 | Train Acc: 96.60%\n",
            "\t Val. Loss: 0.084 |  Val. Acc: 97.40%\n",
            "Epoch: 07 | Epoch Time: 0m 45s\n",
            "\tTrain Loss: 0.114 | Train Acc: 96.56%\n",
            "\t Val. Loss: 0.084 |  Val. Acc: 97.63%\n",
            "Epoch: 08 | Epoch Time: 0m 48s\n",
            "\tTrain Loss: 0.103 | Train Acc: 96.96%\n",
            "\t Val. Loss: 0.081 |  Val. Acc: 97.96%\n",
            "Epoch: 09 | Epoch Time: 0m 46s\n",
            "\tTrain Loss: 0.100 | Train Acc: 96.97%\n",
            "\t Val. Loss: 0.072 |  Val. Acc: 97.86%\n",
            "Epoch: 10 | Epoch Time: 0m 47s\n",
            "\tTrain Loss: 0.099 | Train Acc: 97.02%\n",
            "\t Val. Loss: 0.063 |  Val. Acc: 98.09%\n"
          ]
        }
      ],
      "metadata": {
        "id": "-ynlsHpiraNi"
      }
    },
    {
      "cell_type": "markdown",
      "source": [
        "### Testing SourceSkipDN on MNIST"
      ],
      "metadata": {
        "id": "Oi9NnxKNv7KO"
      }
    },
    {
      "cell_type": "code",
      "execution_count": 49,
      "source": [
        "model.load_state_dict(torch.load('SSD_model_MNIST.pt'))\r\n",
        "\r\n",
        "test_loss, test_acc = evaluate(model, test_iterator_MNIST, criterion, device)\r\n",
        "MNIST_test_loss.append(test_loss)\r\n",
        "MNIST_test_acc.append(test_acc)"
      ],
      "outputs": [],
      "metadata": {
        "id": "Fj1cp85yv6gs"
      }
    },
    {
      "cell_type": "code",
      "execution_count": 50,
      "source": [
        "print(f'Test Loss: {test_loss:.3f} | Test Acc: {test_acc*100:.2f}%')"
      ],
      "outputs": [
        {
          "output_type": "stream",
          "name": "stdout",
          "text": [
            "Test Loss: 0.055 | Test Acc: 98.24%\n"
          ]
        }
      ],
      "metadata": {
        "id": "bw3G32lSwITb"
      }
    },
    {
      "cell_type": "markdown",
      "source": [
        "### Training FullSkipDN on MNIST"
      ],
      "metadata": {
        "id": "ZeAIMEfDwLWX"
      }
    },
    {
      "cell_type": "code",
      "execution_count": 51,
      "source": [
        "INPUT_DIM = 28 * 28\r\n",
        "OUTPUT_DIM = 10\r\n",
        "\r\n",
        "model = FullSkipDN(INPUT_DIM, OUTPUT_DIM)"
      ],
      "outputs": [],
      "metadata": {
        "id": "JsMTl0MzwTi5"
      }
    },
    {
      "cell_type": "code",
      "execution_count": 52,
      "source": [
        "optimizer = optim.Adam(model.parameters())\r\n",
        "criterion = nn.CrossEntropyLoss()\r\n",
        "device = torch.device('cuda' if torch.cuda.is_available() else 'cpu')\r\n",
        "model = model.to(device)\r\n",
        "criterion = criterion.to(device)\r\n",
        "\r\n",
        "EPOCHS = 10\r\n",
        "\r\n",
        "FSD_MNIST_loss = []\r\n",
        "FSD_MNIST_acc = []\r\n",
        "\r\n",
        "best_valid_loss = float('inf')\r\n",
        "\r\n",
        "for epoch in range(EPOCHS):\r\n",
        "    \r\n",
        "    start_time = time.monotonic()\r\n",
        "    \r\n",
        "    train_loss, train_acc = train(model, train_iterator_MNIST, optimizer, criterion, device)\r\n",
        "    valid_loss, valid_acc = evaluate(model, valid_iterator_MNIST, criterion, device)\r\n",
        "\r\n",
        "    FSD_MNIST_loss.append(train_loss)\r\n",
        "    FSD_MNIST_acc.append(train_acc)\r\n",
        "    \r\n",
        "    if valid_loss < best_valid_loss:\r\n",
        "        best_valid_loss = valid_loss\r\n",
        "        torch.save(model.state_dict(), 'FSD_model_MNIST.pt')\r\n",
        "    \r\n",
        "    end_time = time.monotonic()\r\n",
        "\r\n",
        "    epoch_mins, epoch_secs = epoch_time(start_time, end_time)\r\n",
        "    \r\n",
        "    print(f'Epoch: {epoch+1:02} | Epoch Time: {epoch_mins}m {epoch_secs}s')\r\n",
        "    print(f'\\tTrain Loss: {train_loss:.3f} | Train Acc: {train_acc*100:.2f}%')\r\n",
        "    print(f'\\t Val. Loss: {valid_loss:.3f} |  Val. Acc: {valid_acc*100:.2f}%')"
      ],
      "outputs": [
        {
          "output_type": "stream",
          "name": "stdout",
          "text": [
            "Epoch: 01 | Epoch Time: 1m 6s\n",
            "\tTrain Loss: 0.324 | Train Acc: 89.76%\n",
            "\t Val. Loss: 0.142 |  Val. Acc: 96.04%\n",
            "Epoch: 02 | Epoch Time: 1m 9s\n",
            "\tTrain Loss: 0.159 | Train Acc: 95.08%\n",
            "\t Val. Loss: 0.096 |  Val. Acc: 96.79%\n",
            "Epoch: 03 | Epoch Time: 1m 2s\n",
            "\tTrain Loss: 0.141 | Train Acc: 95.70%\n",
            "\t Val. Loss: 0.080 |  Val. Acc: 97.72%\n",
            "Epoch: 04 | Epoch Time: 1m 3s\n",
            "\tTrain Loss: 0.123 | Train Acc: 96.30%\n",
            "\t Val. Loss: 0.074 |  Val. Acc: 97.72%\n",
            "Epoch: 05 | Epoch Time: 1m 18s\n",
            "\tTrain Loss: 0.113 | Train Acc: 96.61%\n",
            "\t Val. Loss: 0.069 |  Val. Acc: 97.99%\n",
            "Epoch: 06 | Epoch Time: 1m 29s\n",
            "\tTrain Loss: 0.108 | Train Acc: 96.76%\n",
            "\t Val. Loss: 0.085 |  Val. Acc: 97.47%\n",
            "Epoch: 07 | Epoch Time: 1m 20s\n",
            "\tTrain Loss: 0.102 | Train Acc: 96.96%\n",
            "\t Val. Loss: 0.072 |  Val. Acc: 97.83%\n",
            "Epoch: 08 | Epoch Time: 1m 11s\n",
            "\tTrain Loss: 0.097 | Train Acc: 97.17%\n",
            "\t Val. Loss: 0.076 |  Val. Acc: 97.87%\n",
            "Epoch: 09 | Epoch Time: 1m 12s\n",
            "\tTrain Loss: 0.096 | Train Acc: 97.29%\n",
            "\t Val. Loss: 0.071 |  Val. Acc: 97.76%\n",
            "Epoch: 10 | Epoch Time: 1m 14s\n",
            "\tTrain Loss: 0.090 | Train Acc: 97.45%\n",
            "\t Val. Loss: 0.057 |  Val. Acc: 98.35%\n"
          ]
        }
      ],
      "metadata": {
        "id": "clrQi1b6rZxD"
      }
    },
    {
      "cell_type": "markdown",
      "source": [
        "### Testing FullSkipDN on MNIST"
      ],
      "metadata": {
        "id": "_uOpKaqOwdc-"
      }
    },
    {
      "cell_type": "code",
      "execution_count": 53,
      "source": [
        "model.load_state_dict(torch.load('FSD_model_MNIST.pt'))\r\n",
        "\r\n",
        "test_loss, test_acc = evaluate(model, test_iterator_MNIST, criterion, device)\r\n",
        "MNIST_test_loss.append(test_loss)\r\n",
        "MNIST_test_acc.append(test_acc)"
      ],
      "outputs": [],
      "metadata": {
        "id": "jcpW4iQiwjHG"
      }
    },
    {
      "cell_type": "code",
      "execution_count": 54,
      "source": [
        "print(f'Test Loss: {test_loss:.3f} | Test Acc: {test_acc*100:.2f}%')"
      ],
      "outputs": [
        {
          "output_type": "stream",
          "name": "stdout",
          "text": [
            "Test Loss: 0.057 | Test Acc: 98.27%\n"
          ]
        }
      ],
      "metadata": {
        "id": "ROoEm2Guwi0g"
      }
    },
    {
      "cell_type": "markdown",
      "source": [
        "### Training OneSkipRN on MNIST"
      ],
      "metadata": {
        "id": "sZvA3zkNwoks"
      }
    },
    {
      "cell_type": "code",
      "execution_count": 55,
      "source": [
        "INPUT_DIM = 28 * 28\r\n",
        "OUTPUT_DIM = 10\r\n",
        "\r\n",
        "model = OneSkipRN(INPUT_DIM, OUTPUT_DIM)"
      ],
      "outputs": [],
      "metadata": {
        "id": "J5fCZQ17wn6q"
      }
    },
    {
      "cell_type": "code",
      "execution_count": 56,
      "source": [
        "optimizer = optim.Adam(model.parameters())\r\n",
        "criterion = nn.CrossEntropyLoss()\r\n",
        "device = torch.device('cuda' if torch.cuda.is_available() else 'cpu')\r\n",
        "model = model.to(device)\r\n",
        "criterion = criterion.to(device)\r\n",
        "\r\n",
        "EPOCHS = 10\r\n",
        "\r\n",
        "OSR_MNIST_loss = []\r\n",
        "OSR_MNIST_acc = []\r\n",
        "\r\n",
        "best_valid_loss = float('inf')\r\n",
        "\r\n",
        "for epoch in range(EPOCHS):\r\n",
        "    \r\n",
        "    start_time = time.monotonic()\r\n",
        "    \r\n",
        "    train_loss, train_acc = train(model, train_iterator_MNIST, optimizer, criterion, device)\r\n",
        "    valid_loss, valid_acc = evaluate(model, valid_iterator_MNIST, criterion, device)\r\n",
        "\r\n",
        "    OSR_MNIST_loss.append(train_loss)\r\n",
        "    OSR_MNIST_acc.append(train_acc)\r\n",
        "    \r\n",
        "    if valid_loss < best_valid_loss:\r\n",
        "        best_valid_loss = valid_loss\r\n",
        "        torch.save(model.state_dict(), 'OSR_model_MNIST.pt')\r\n",
        "    \r\n",
        "    end_time = time.monotonic()\r\n",
        "\r\n",
        "    epoch_mins, epoch_secs = epoch_time(start_time, end_time)\r\n",
        "    \r\n",
        "    print(f'Epoch: {epoch+1:02} | Epoch Time: {epoch_mins}m {epoch_secs}s')\r\n",
        "    print(f'\\tTrain Loss: {train_loss:.3f} | Train Acc: {train_acc*100:.2f}%')\r\n",
        "    print(f'\\t Val. Loss: {valid_loss:.3f} |  Val. Acc: {valid_acc*100:.2f}%')"
      ],
      "outputs": [
        {
          "output_type": "stream",
          "name": "stdout",
          "text": [
            "Epoch: 01 | Epoch Time: 0m 29s\n",
            "\tTrain Loss: 0.860 | Train Acc: 67.92%\n",
            "\t Val. Loss: 0.304 |  Val. Acc: 91.27%\n",
            "Epoch: 02 | Epoch Time: 0m 30s\n",
            "\tTrain Loss: 0.305 | Train Acc: 91.45%\n",
            "\t Val. Loss: 0.224 |  Val. Acc: 93.88%\n",
            "Epoch: 03 | Epoch Time: 0m 30s\n",
            "\tTrain Loss: 0.232 | Train Acc: 93.52%\n",
            "\t Val. Loss: 0.166 |  Val. Acc: 95.52%\n",
            "Epoch: 04 | Epoch Time: 0m 30s\n",
            "\tTrain Loss: 0.203 | Train Acc: 94.40%\n",
            "\t Val. Loss: 0.165 |  Val. Acc: 95.37%\n",
            "Epoch: 05 | Epoch Time: 0m 30s\n",
            "\tTrain Loss: 0.179 | Train Acc: 94.98%\n",
            "\t Val. Loss: 0.150 |  Val. Acc: 95.78%\n",
            "Epoch: 06 | Epoch Time: 0m 30s\n",
            "\tTrain Loss: 0.165 | Train Acc: 95.35%\n",
            "\t Val. Loss: 0.118 |  Val. Acc: 96.68%\n",
            "Epoch: 07 | Epoch Time: 0m 29s\n",
            "\tTrain Loss: 0.151 | Train Acc: 95.80%\n",
            "\t Val. Loss: 0.103 |  Val. Acc: 97.06%\n",
            "Epoch: 08 | Epoch Time: 0m 29s\n",
            "\tTrain Loss: 0.141 | Train Acc: 96.13%\n",
            "\t Val. Loss: 0.087 |  Val. Acc: 97.50%\n",
            "Epoch: 09 | Epoch Time: 0m 30s\n",
            "\tTrain Loss: 0.133 | Train Acc: 96.21%\n",
            "\t Val. Loss: 0.094 |  Val. Acc: 97.51%\n",
            "Epoch: 10 | Epoch Time: 0m 33s\n",
            "\tTrain Loss: 0.130 | Train Acc: 96.29%\n",
            "\t Val. Loss: 0.094 |  Val. Acc: 97.60%\n"
          ]
        }
      ],
      "metadata": {
        "colab": {
          "base_uri": "https://localhost:8080/"
        },
        "id": "YVPwKB-XrZTf",
        "outputId": "9d94f94a-78b5-4057-af75-e5b359478bf4"
      }
    },
    {
      "cell_type": "markdown",
      "source": [
        "### Testing OneSkipRN on MNIST"
      ],
      "metadata": {
        "id": "y_RC3zV7xCW9"
      }
    },
    {
      "cell_type": "code",
      "execution_count": 57,
      "source": [
        "model.load_state_dict(torch.load('OSR_model_MNIST.pt'))\r\n",
        "\r\n",
        "test_loss, test_acc = evaluate(model, test_iterator_MNIST, criterion, device)\r\n",
        "MNIST_test_loss.append(test_loss)\r\n",
        "MNIST_test_acc.append(test_acc)"
      ],
      "outputs": [],
      "metadata": {
        "id": "O3ZKrzgAxCHI"
      }
    },
    {
      "cell_type": "code",
      "execution_count": 58,
      "source": [
        "print(f'Test Loss: {test_loss:.3f} | Test Acc: {test_acc*100:.2f}%')"
      ],
      "outputs": [
        {
          "output_type": "stream",
          "name": "stdout",
          "text": [
            "Test Loss: 0.084 | Test Acc: 97.68%\n"
          ]
        }
      ],
      "metadata": {
        "colab": {
          "base_uri": "https://localhost:8080/"
        },
        "id": "xYVhjnhCxDrZ",
        "outputId": "0b40b62f-8642-47d6-fbbd-a0a14690215e"
      }
    },
    {
      "cell_type": "markdown",
      "source": [
        "### Training SourceSkipRN on MNIST"
      ],
      "metadata": {
        "id": "Mng66xR1x3aS"
      }
    },
    {
      "cell_type": "code",
      "execution_count": 59,
      "source": [
        "INPUT_DIM = 28 * 28\r\n",
        "OUTPUT_DIM = 10\r\n",
        "\r\n",
        "model = SourceSkipRN(INPUT_DIM, OUTPUT_DIM)"
      ],
      "outputs": [],
      "metadata": {
        "id": "WBk0bqbsyII2"
      }
    },
    {
      "cell_type": "code",
      "execution_count": 60,
      "source": [
        "optimizer = optim.Adam(model.parameters())\r\n",
        "criterion = nn.CrossEntropyLoss()\r\n",
        "device = torch.device('cuda' if torch.cuda.is_available() else 'cpu')\r\n",
        "model = model.to(device)\r\n",
        "criterion = criterion.to(device)\r\n",
        "\r\n",
        "EPOCHS = 10\r\n",
        "\r\n",
        "SSR_MNIST_loss = []\r\n",
        "SSR_MNIST_acc = []\r\n",
        "\r\n",
        "best_valid_loss = float('inf')\r\n",
        "\r\n",
        "for epoch in range(EPOCHS):\r\n",
        "    \r\n",
        "    start_time = time.monotonic()\r\n",
        "    \r\n",
        "    train_loss, train_acc = train(model, train_iterator_MNIST, optimizer, criterion, device)\r\n",
        "    valid_loss, valid_acc = evaluate(model, valid_iterator_MNIST, criterion, device)\r\n",
        "\r\n",
        "    SSR_MNIST_loss.append(train_loss)\r\n",
        "    SSR_MNIST_acc.append(train_acc)\r\n",
        "    \r\n",
        "    if valid_loss < best_valid_loss:\r\n",
        "        best_valid_loss = valid_loss\r\n",
        "        torch.save(model.state_dict(), 'SSR_model_MNIST.pt')\r\n",
        "    \r\n",
        "    end_time = time.monotonic()\r\n",
        "\r\n",
        "    epoch_mins, epoch_secs = epoch_time(start_time, end_time)\r\n",
        "    \r\n",
        "    print(f'Epoch: {epoch+1:02} | Epoch Time: {epoch_mins}m {epoch_secs}s')\r\n",
        "    print(f'\\tTrain Loss: {train_loss:.3f} | Train Acc: {train_acc*100:.2f}%')\r\n",
        "    print(f'\\t Val. Loss: {valid_loss:.3f} |  Val. Acc: {valid_acc*100:.2f}%')"
      ],
      "outputs": [
        {
          "output_type": "stream",
          "name": "stdout",
          "text": [
            "Epoch: 01 | Epoch Time: 0m 29s\n",
            "\tTrain Loss: 0.435 | Train Acc: 86.39%\n",
            "\t Val. Loss: 0.181 |  Val. Acc: 94.41%\n",
            "Epoch: 02 | Epoch Time: 0m 29s\n",
            "\tTrain Loss: 0.192 | Train Acc: 94.03%\n",
            "\t Val. Loss: 0.127 |  Val. Acc: 96.18%\n",
            "Epoch: 03 | Epoch Time: 0m 29s\n",
            "\tTrain Loss: 0.155 | Train Acc: 95.30%\n",
            "\t Val. Loss: 0.107 |  Val. Acc: 96.68%\n",
            "Epoch: 04 | Epoch Time: 0m 29s\n",
            "\tTrain Loss: 0.137 | Train Acc: 95.79%\n",
            "\t Val. Loss: 0.084 |  Val. Acc: 97.37%\n",
            "Epoch: 05 | Epoch Time: 0m 31s\n",
            "\tTrain Loss: 0.124 | Train Acc: 96.18%\n",
            "\t Val. Loss: 0.085 |  Val. Acc: 97.27%\n",
            "Epoch: 06 | Epoch Time: 0m 29s\n",
            "\tTrain Loss: 0.116 | Train Acc: 96.47%\n",
            "\t Val. Loss: 0.091 |  Val. Acc: 97.24%\n",
            "Epoch: 07 | Epoch Time: 0m 28s\n",
            "\tTrain Loss: 0.112 | Train Acc: 96.53%\n",
            "\t Val. Loss: 0.091 |  Val. Acc: 97.22%\n",
            "Epoch: 08 | Epoch Time: 0m 28s\n",
            "\tTrain Loss: 0.105 | Train Acc: 96.69%\n",
            "\t Val. Loss: 0.078 |  Val. Acc: 97.61%\n",
            "Epoch: 09 | Epoch Time: 0m 29s\n",
            "\tTrain Loss: 0.101 | Train Acc: 96.91%\n",
            "\t Val. Loss: 0.077 |  Val. Acc: 97.60%\n",
            "Epoch: 10 | Epoch Time: 0m 32s\n",
            "\tTrain Loss: 0.100 | Train Acc: 96.87%\n",
            "\t Val. Loss: 0.071 |  Val. Acc: 97.66%\n"
          ]
        }
      ],
      "metadata": {
        "id": "NN0m4CfRrY0e"
      }
    },
    {
      "cell_type": "markdown",
      "source": [
        "### Testing SourceSkipRN on MNIST"
      ],
      "metadata": {
        "id": "t2tr7v_byO1P"
      }
    },
    {
      "cell_type": "code",
      "execution_count": 61,
      "source": [
        "model.load_state_dict(torch.load('SSR_model_MNIST.pt'))\r\n",
        "\r\n",
        "test_loss, test_acc = evaluate(model, test_iterator_MNIST, criterion, device)\r\n",
        "MNIST_test_loss.append(test_loss)\r\n",
        "MNIST_test_acc.append(test_acc)"
      ],
      "outputs": [],
      "metadata": {
        "id": "LlFB8kmDyTEv"
      }
    },
    {
      "cell_type": "code",
      "execution_count": 62,
      "source": [
        "print(f'Test Loss: {test_loss:.3f} | Test Acc: {test_acc*100:.2f}%')"
      ],
      "outputs": [
        {
          "output_type": "stream",
          "name": "stdout",
          "text": [
            "Test Loss: 0.067 | Test Acc: 97.85%\n"
          ]
        }
      ],
      "metadata": {
        "id": "vo6A0q7byc4C"
      }
    },
    {
      "cell_type": "markdown",
      "source": [
        "### Training FullSkipRN on MNIST"
      ],
      "metadata": {
        "id": "tE_VoCYiyl9v"
      }
    },
    {
      "cell_type": "code",
      "execution_count": 63,
      "source": [
        "INPUT_DIM = 28 * 28\r\n",
        "OUTPUT_DIM = 10\r\n",
        "\r\n",
        "model = FullSkipRN(INPUT_DIM, OUTPUT_DIM)"
      ],
      "outputs": [],
      "metadata": {
        "id": "w50xRrZ0ysvd"
      }
    },
    {
      "cell_type": "code",
      "execution_count": 64,
      "source": [
        "optimizer = optim.Adam(model.parameters())\r\n",
        "criterion = nn.CrossEntropyLoss()\r\n",
        "device = torch.device('cuda' if torch.cuda.is_available() else 'cpu')\r\n",
        "model = model.to(device)\r\n",
        "criterion = criterion.to(device)\r\n",
        "\r\n",
        "EPOCHS = 10\r\n",
        "\r\n",
        "FSR_MNIST_loss = []\r\n",
        "FSR_MNIST_acc = []\r\n",
        "\r\n",
        "best_valid_loss = float('inf')\r\n",
        "\r\n",
        "for epoch in range(EPOCHS):\r\n",
        "    \r\n",
        "    start_time = time.monotonic()\r\n",
        "    \r\n",
        "    train_loss, train_acc = train(model, train_iterator_MNIST, optimizer, criterion, device)\r\n",
        "    valid_loss, valid_acc = evaluate(model, valid_iterator_MNIST, criterion, device)\r\n",
        "\r\n",
        "    FSR_MNIST_loss.append(train_loss)\r\n",
        "    FSR_MNIST_acc.append(train_acc)\r\n",
        "\r\n",
        "    if valid_loss < best_valid_loss:\r\n",
        "        best_valid_loss = valid_loss\r\n",
        "        torch.save(model.state_dict(), 'FSR_model_MNIST.pt')\r\n",
        "    \r\n",
        "    end_time = time.monotonic()\r\n",
        "\r\n",
        "    epoch_mins, epoch_secs = epoch_time(start_time, end_time)\r\n",
        "    \r\n",
        "    print(f'Epoch: {epoch+1:02} | Epoch Time: {epoch_mins}m {epoch_secs}s')\r\n",
        "    print(f'\\tTrain Loss: {train_loss:.3f} | Train Acc: {train_acc*100:.2f}%')\r\n",
        "    print(f'\\t Val. Loss: {valid_loss:.3f} |  Val. Acc: {valid_acc*100:.2f}%')"
      ],
      "outputs": [
        {
          "output_type": "stream",
          "name": "stdout",
          "text": [
            "Epoch: 01 | Epoch Time: 0m 33s\n",
            "\tTrain Loss: 0.644 | Train Acc: 79.41%\n",
            "\t Val. Loss: 0.251 |  Val. Acc: 92.00%\n",
            "Epoch: 02 | Epoch Time: 0m 40s\n",
            "\tTrain Loss: 0.277 | Train Acc: 91.39%\n",
            "\t Val. Loss: 0.170 |  Val. Acc: 94.63%\n",
            "Epoch: 03 | Epoch Time: 0m 41s\n",
            "\tTrain Loss: 0.221 | Train Acc: 93.13%\n",
            "\t Val. Loss: 0.164 |  Val. Acc: 94.87%\n",
            "Epoch: 04 | Epoch Time: 0m 30s\n",
            "\tTrain Loss: 0.195 | Train Acc: 93.91%\n",
            "\t Val. Loss: 0.145 |  Val. Acc: 95.63%\n",
            "Epoch: 05 | Epoch Time: 0m 30s\n",
            "\tTrain Loss: 0.181 | Train Acc: 94.38%\n",
            "\t Val. Loss: 0.129 |  Val. Acc: 96.02%\n",
            "Epoch: 06 | Epoch Time: 0m 31s\n",
            "\tTrain Loss: 0.163 | Train Acc: 95.00%\n",
            "\t Val. Loss: 0.122 |  Val. Acc: 96.38%\n",
            "Epoch: 07 | Epoch Time: 0m 30s\n",
            "\tTrain Loss: 0.153 | Train Acc: 95.22%\n",
            "\t Val. Loss: 0.127 |  Val. Acc: 96.23%\n",
            "Epoch: 08 | Epoch Time: 0m 31s\n",
            "\tTrain Loss: 0.144 | Train Acc: 95.50%\n",
            "\t Val. Loss: 0.112 |  Val. Acc: 96.79%\n",
            "Epoch: 09 | Epoch Time: 0m 39s\n",
            "\tTrain Loss: 0.137 | Train Acc: 95.73%\n",
            "\t Val. Loss: 0.107 |  Val. Acc: 96.74%\n",
            "Epoch: 10 | Epoch Time: 0m 40s\n",
            "\tTrain Loss: 0.132 | Train Acc: 95.89%\n",
            "\t Val. Loss: 0.099 |  Val. Acc: 96.84%\n"
          ]
        }
      ],
      "metadata": {
        "id": "hYM_PvkVrVrv"
      }
    },
    {
      "cell_type": "markdown",
      "source": [
        "### Testing FullSkipRN on MNIST"
      ],
      "metadata": {
        "id": "6QGRqYF5zC3j"
      }
    },
    {
      "cell_type": "code",
      "execution_count": 65,
      "source": [
        "model.load_state_dict(torch.load('FSR_model_MNIST.pt'))\r\n",
        "\r\n",
        "test_loss, test_acc = evaluate(model, test_iterator_MNIST, criterion, device)\r\n",
        "MNIST_test_loss.append(test_loss)\r\n",
        "MNIST_test_acc.append(test_acc)"
      ],
      "outputs": [],
      "metadata": {
        "id": "vpYRPJ2t03W3"
      }
    },
    {
      "cell_type": "code",
      "execution_count": 66,
      "source": [
        "print(f'Test Loss: {test_loss:.3f} | Test Acc: {test_acc*100:.2f}%')"
      ],
      "outputs": [
        {
          "output_type": "stream",
          "name": "stdout",
          "text": [
            "Test Loss: 0.093 | Test Acc: 97.09%\n"
          ]
        }
      ],
      "metadata": {
        "id": "-LXBYBCy03Lc"
      }
    },
    {
      "cell_type": "markdown",
      "source": [
        "### Analysis and Inferences\r\n"
      ],
      "metadata": {}
    },
    {
      "cell_type": "code",
      "execution_count": 74,
      "source": [
        "MNIST_train_acc = [MLP_MNIST_acc, OSD_MNIST_acc, SSD_MNIST_acc, FSD_MNIST_acc, OSR_MNIST_acc, SSR_MNIST_acc, FSR_MNIST_acc]\r\n",
        "MNIST_train_loss = [MLP_MNIST_loss, OSD_MNIST_loss, SSD_MNIST_loss, FSD_MNIST_loss, OSR_MNIST_loss, SSR_MNIST_loss, FSR_MNIST_loss]\r\n",
        "\r\n",
        "MNIST_legends = ['MLP', 'OneSkipDN', 'SourceSkipDN', 'FullSkipDN', 'OneSkipRN', 'SourceSkipRN', 'FullSkipRN']\r\n",
        "\r\n",
        "for i,acc in enumerate(MNIST_train_acc):\r\n",
        "    plt.plot(acc, label=MNIST_legends[i])\r\n",
        "plt.xlabel('Epoch')\r\n",
        "plt.ylabel('accuracy')\r\n",
        "plt.legend()\r\n",
        "plt.show()\r\n",
        "\r\n",
        "for i,acc in enumerate(MNIST_train_loss):\r\n",
        "    plt.plot(acc, label=MNIST_legends[i])\r\n",
        "plt.xlabel('Epoch')\r\n",
        "plt.ylabel('loss')\r\n",
        "plt.legend()\r\n",
        "plt.show()"
      ],
      "outputs": [
        {
          "output_type": "display_data",
          "data": {
            "image/png": "[encoded data removed]",
            "text/plain": [
              "<Figure size 432x288 with 1 Axes>"
            ]
          },
          "metadata": {
            "needs_background": "light"
          }
        },
        {
          "output_type": "display_data",
          "data": {
            "image/png": "[encoded data removed]",
            "text/plain": [
              "<Figure size 432x288 with 1 Axes>"
            ]
          },
          "metadata": {
            "needs_background": "light"
          }
        }
      ],
      "metadata": {}
    },
    {
      "cell_type": "markdown",
      "source": [
        "So we can see that skip connections clearly converges faster than normal MLP. FullSkipDN is the fastest and gives the best accuracy. Interestingly, OneSkipDN does not show monotonous improvement, but fluctuates between very close values."
      ],
      "metadata": {}
    },
    {
      "cell_type": "code",
      "execution_count": 84,
      "source": [
        "\r\n",
        "plt.figure(1, figsize=(7,10))\r\n",
        "plt.scatter(MNIST_test_acc, MNIST_test_loss)\r\n",
        "plt.xlabel('accuracy')\r\n",
        "plt.ylabel('loss')\r\n",
        "for i,lab in enumerate(MNIST_legends):\r\n",
        "    plt.annotate(lab, (MNIST_test_acc[i], MNIST_test_loss[i]))\r\n",
        "plt.show()\r\n"
      ],
      "outputs": [
        {
          "output_type": "display_data",
          "data": {
            "image/png": "[encoded data removed]",
            "text/plain": [
              "<Figure size 504x720 with 1 Axes>"
            ]
          },
          "metadata": {
            "needs_background": "light"
          }
        }
      ],
      "metadata": {}
    },
    {
      "cell_type": "markdown",
      "source": [
        "### Training MLP on CIFAR-10"
      ],
      "metadata": {
        "id": "FclZv3AR7EBT"
      }
    },
    {
      "cell_type": "code",
      "execution_count": 85,
      "source": [
        "INPUT_DIM = 32 * 32 * 3\r\n",
        "OUTPUT_DIM = 10\r\n",
        "\r\n",
        "model = MLP(INPUT_DIM, OUTPUT_DIM)"
      ],
      "outputs": [],
      "metadata": {
        "id": "UrjcfKFp7EBT"
      }
    },
    {
      "cell_type": "code",
      "execution_count": 86,
      "source": [
        "optimizer = optim.Adam(model.parameters())\r\n",
        "criterion = nn.CrossEntropyLoss()\r\n",
        "device = torch.device('cuda' if torch.cuda.is_available() else 'cpu')\r\n",
        "model = model.to(device)\r\n",
        "criterion = criterion.to(device)\r\n",
        "\r\n",
        "EPOCHS = 10\r\n",
        "\r\n",
        "MLP_CIFAR_loss = []\r\n",
        "MLP_CIFAR_acc = []\r\n",
        "\r\n",
        "best_valid_loss = float('inf')\r\n",
        "\r\n",
        "for epoch in range(EPOCHS):\r\n",
        "    \r\n",
        "    start_time = time.monotonic()\r\n",
        "    \r\n",
        "    train_loss, train_acc = train(model, train_iterator_CIFAR, optimizer, criterion, device)\r\n",
        "    valid_loss, valid_acc = evaluate(model, valid_iterator_CIFAR, criterion, device)\r\n",
        "\r\n",
        "    MLP_CIFAR_loss.append(train_loss)\r\n",
        "    MLP_CIFAR_acc.append(train_acc)\r\n",
        "    \r\n",
        "    if valid_loss < best_valid_loss:\r\n",
        "        best_valid_loss = valid_loss\r\n",
        "        torch.save(model.state_dict(), 'MLP_model_CIFAR.pt')\r\n",
        "    \r\n",
        "    end_time = time.monotonic()\r\n",
        "\r\n",
        "    epoch_mins, epoch_secs = epoch_time(start_time, end_time)\r\n",
        "    \r\n",
        "    print(f'Epoch: {epoch+1:02} | Epoch Time: {epoch_mins}m {epoch_secs}s')\r\n",
        "    print(f'\\tTrain Loss: {train_loss:.3f} | Train Acc: {train_acc*100:.2f}%')\r\n",
        "    print(f'\\t Val. Loss: {valid_loss:.3f} |  Val. Acc: {valid_acc*100:.2f}%')"
      ],
      "outputs": [
        {
          "output_type": "stream",
          "name": "stdout",
          "text": [
            "Epoch: 01 | Epoch Time: 0m 32s\n",
            "\tTrain Loss: 2.048 | Train Acc: 18.37%\n",
            "\t Val. Loss: 1.988 |  Val. Acc: 20.02%\n",
            "Epoch: 02 | Epoch Time: 0m 31s\n",
            "\tTrain Loss: 1.956 | Train Acc: 21.19%\n",
            "\t Val. Loss: 1.946 |  Val. Acc: 22.01%\n",
            "Epoch: 03 | Epoch Time: 0m 32s\n",
            "\tTrain Loss: 1.918 | Train Acc: 23.51%\n",
            "\t Val. Loss: 1.907 |  Val. Acc: 25.47%\n",
            "Epoch: 04 | Epoch Time: 0m 33s\n",
            "\tTrain Loss: 1.889 | Train Acc: 26.58%\n",
            "\t Val. Loss: 1.858 |  Val. Acc: 28.38%\n",
            "Epoch: 05 | Epoch Time: 0m 33s\n",
            "\tTrain Loss: 1.832 | Train Acc: 30.05%\n",
            "\t Val. Loss: 1.779 |  Val. Acc: 33.50%\n",
            "Epoch: 06 | Epoch Time: 0m 29s\n",
            "\tTrain Loss: 1.751 | Train Acc: 34.45%\n",
            "\t Val. Loss: 1.715 |  Val. Acc: 35.88%\n",
            "Epoch: 07 | Epoch Time: 0m 29s\n",
            "\tTrain Loss: 1.693 | Train Acc: 37.03%\n",
            "\t Val. Loss: 1.685 |  Val. Acc: 37.32%\n",
            "Epoch: 08 | Epoch Time: 0m 29s\n",
            "\tTrain Loss: 1.659 | Train Acc: 38.86%\n",
            "\t Val. Loss: 1.655 |  Val. Acc: 39.40%\n",
            "Epoch: 09 | Epoch Time: 0m 29s\n",
            "\tTrain Loss: 1.638 | Train Acc: 39.85%\n",
            "\t Val. Loss: 1.658 |  Val. Acc: 38.98%\n",
            "Epoch: 10 | Epoch Time: 0m 29s\n",
            "\tTrain Loss: 1.618 | Train Acc: 41.32%\n",
            "\t Val. Loss: 1.619 |  Val. Acc: 39.91%\n"
          ]
        }
      ],
      "metadata": {
        "colab": {
          "base_uri": "https://localhost:8080/"
        },
        "id": "GiPKLl0D7EBU",
        "outputId": "59afd6ba-a779-457f-8e28-e7b7a0f608ef"
      }
    },
    {
      "cell_type": "markdown",
      "source": [
        "### Testing MLP on CIFAR-10"
      ],
      "metadata": {
        "id": "lbVfv3Pc7EBV"
      }
    },
    {
      "cell_type": "code",
      "execution_count": 87,
      "source": [
        "model.load_state_dict(torch.load('MLP_model_CIFAR.pt'))\r\n",
        "\r\n",
        "test_loss, test_acc = evaluate(model, test_iterator_CIFAR, criterion, device)\r\n",
        "CIFAR_test_loss = [test_loss]\r\n",
        "CIFAR_test_acc = [test_acc]"
      ],
      "outputs": [],
      "metadata": {
        "id": "PxqpyRIR7EBV"
      }
    },
    {
      "cell_type": "code",
      "execution_count": 88,
      "source": [
        "print(f'Test Loss: {test_loss:.3f} | Test Acc: {test_acc*100:.2f}%')"
      ],
      "outputs": [
        {
          "output_type": "stream",
          "name": "stdout",
          "text": [
            "Test Loss: 1.584 | Test Acc: 42.40%\n"
          ]
        }
      ],
      "metadata": {
        "colab": {
          "base_uri": "https://localhost:8080/"
        },
        "id": "2IgPPv5n7EBV",
        "outputId": "1643ec83-fe59-4083-cbeb-f8fd87001f4b"
      }
    },
    {
      "cell_type": "markdown",
      "source": [
        "### Training OneSkipDN on CIFAR-10"
      ],
      "metadata": {
        "id": "yjpmvvof2O14"
      }
    },
    {
      "cell_type": "code",
      "execution_count": 89,
      "source": [
        "INPUT_DIM = 32 * 32 * 3\r\n",
        "OUTPUT_DIM = 10\r\n",
        "\r\n",
        "model = OneSkipDN(INPUT_DIM, OUTPUT_DIM)"
      ],
      "outputs": [],
      "metadata": {
        "id": "5Hb9YP_o2O15"
      }
    },
    {
      "cell_type": "code",
      "execution_count": 90,
      "source": [
        "optimizer = optim.Adam(model.parameters())\r\n",
        "criterion = nn.CrossEntropyLoss()\r\n",
        "device = torch.device('cuda' if torch.cuda.is_available() else 'cpu')\r\n",
        "model = model.to(device)\r\n",
        "criterion = criterion.to(device)\r\n",
        "\r\n",
        "EPOCHS = 10\r\n",
        "\r\n",
        "OSD_CIFAR_loss = []\r\n",
        "OSD_CIFAR_acc = []\r\n",
        "\r\n",
        "best_valid_loss = float('inf')\r\n",
        "\r\n",
        "for epoch in range(EPOCHS):\r\n",
        "    \r\n",
        "    start_time = time.monotonic()\r\n",
        "    \r\n",
        "    train_loss, train_acc = train(model, train_iterator_CIFAR, optimizer, criterion, device)\r\n",
        "    valid_loss, valid_acc = evaluate(model, valid_iterator_CIFAR, criterion, device)\r\n",
        "\r\n",
        "    OSD_CIFAR_loss.append(train_loss)\r\n",
        "    OSD_CIFAR_acc.append(train_acc)\r\n",
        "    \r\n",
        "    if valid_loss < best_valid_loss:\r\n",
        "        best_valid_loss = valid_loss\r\n",
        "        torch.save(model.state_dict(), 'OSD_model_CIFAR.pt')\r\n",
        "    \r\n",
        "    end_time = time.monotonic()\r\n",
        "\r\n",
        "    epoch_mins, epoch_secs = epoch_time(start_time, end_time)\r\n",
        "    \r\n",
        "    print(f'Epoch: {epoch+1:02} | Epoch Time: {epoch_mins}m {epoch_secs}s')\r\n",
        "    print(f'\\tTrain Loss: {train_loss:.3f} | Train Acc: {train_acc*100:.2f}%')\r\n",
        "    print(f'\\t Val. Loss: {valid_loss:.3f} |  Val. Acc: {valid_acc*100:.2f}%')"
      ],
      "outputs": [
        {
          "output_type": "stream",
          "name": "stdout",
          "text": [
            "Epoch: 01 | Epoch Time: 0m 38s\n",
            "\tTrain Loss: 1.943 | Train Acc: 25.01%\n",
            "\t Val. Loss: 1.828 |  Val. Acc: 30.44%\n",
            "Epoch: 02 | Epoch Time: 0m 41s\n",
            "\tTrain Loss: 1.771 | Train Acc: 33.69%\n",
            "\t Val. Loss: 1.733 |  Val. Acc: 36.27%\n",
            "Epoch: 03 | Epoch Time: 0m 42s\n",
            "\tTrain Loss: 1.663 | Train Acc: 38.34%\n",
            "\t Val. Loss: 1.655 |  Val. Acc: 39.72%\n",
            "Epoch: 04 | Epoch Time: 0m 42s\n",
            "\tTrain Loss: 1.588 | Train Acc: 42.06%\n",
            "\t Val. Loss: 1.579 |  Val. Acc: 43.57%\n",
            "Epoch: 05 | Epoch Time: 0m 43s\n",
            "\tTrain Loss: 1.531 | Train Acc: 44.95%\n",
            "\t Val. Loss: 1.587 |  Val. Acc: 43.73%\n",
            "Epoch: 06 | Epoch Time: 0m 41s\n",
            "\tTrain Loss: 1.488 | Train Acc: 46.46%\n",
            "\t Val. Loss: 1.558 |  Val. Acc: 44.46%\n",
            "Epoch: 07 | Epoch Time: 0m 44s\n",
            "\tTrain Loss: 1.450 | Train Acc: 48.24%\n",
            "\t Val. Loss: 1.491 |  Val. Acc: 47.09%\n",
            "Epoch: 08 | Epoch Time: 0m 40s\n",
            "\tTrain Loss: 1.422 | Train Acc: 49.42%\n",
            "\t Val. Loss: 1.473 |  Val. Acc: 47.55%\n",
            "Epoch: 09 | Epoch Time: 0m 41s\n",
            "\tTrain Loss: 1.402 | Train Acc: 49.87%\n",
            "\t Val. Loss: 1.461 |  Val. Acc: 48.54%\n",
            "Epoch: 10 | Epoch Time: 0m 40s\n",
            "\tTrain Loss: 1.378 | Train Acc: 50.68%\n",
            "\t Val. Loss: 1.440 |  Val. Acc: 49.11%\n"
          ]
        }
      ],
      "metadata": {
        "colab": {
          "base_uri": "https://localhost:8080/"
        },
        "id": "Kj5vlnpY2O16",
        "outputId": "0bfa13c8-6891-43d1-c9e7-efc76a579df1"
      }
    },
    {
      "cell_type": "markdown",
      "source": [
        "### Testing OneSkipDN on CIFAR-10"
      ],
      "metadata": {
        "id": "VxUG1rN62O16"
      }
    },
    {
      "cell_type": "code",
      "execution_count": 91,
      "source": [
        "model.load_state_dict(torch.load('OSD_model_CIFAR.pt'))\r\n",
        "\r\n",
        "test_loss, test_acc = evaluate(model, test_iterator_CIFAR, criterion, device)\r\n",
        "CIFAR_test_loss.append(test_loss)\r\n",
        "CIFAR_test_acc.append(test_acc)"
      ],
      "outputs": [],
      "metadata": {
        "id": "BzlhkyLq2O17"
      }
    },
    {
      "cell_type": "code",
      "execution_count": 92,
      "source": [
        "print(f'Test Loss: {test_loss:.3f} | Test Acc: {test_acc*100:.2f}%')"
      ],
      "outputs": [
        {
          "output_type": "stream",
          "name": "stdout",
          "text": [
            "Test Loss: 1.413 | Test Acc: 49.23%\n"
          ]
        }
      ],
      "metadata": {
        "colab": {
          "base_uri": "https://localhost:8080/"
        },
        "id": "Blqzmzev2O19",
        "outputId": "b8cc39c7-eedd-417a-d9c2-0dad7f972a01"
      }
    },
    {
      "cell_type": "markdown",
      "source": [
        "### Training SourceSkipDN on CIFAR-10"
      ],
      "metadata": {
        "id": "7Cl5Y89c2O19"
      }
    },
    {
      "cell_type": "code",
      "execution_count": 93,
      "source": [
        "INPUT_DIM = 32 * 32 * 3\r\n",
        "OUTPUT_DIM = 10\r\n",
        "\r\n",
        "model = SourceSkipDN(INPUT_DIM, OUTPUT_DIM)"
      ],
      "outputs": [],
      "metadata": {
        "id": "yRE-kSZU2O1-"
      }
    },
    {
      "cell_type": "code",
      "execution_count": 94,
      "source": [
        "optimizer = optim.Adam(model.parameters())\r\n",
        "criterion = nn.CrossEntropyLoss()\r\n",
        "device = torch.device('cuda' if torch.cuda.is_available() else 'cpu')\r\n",
        "model = model.to(device)\r\n",
        "criterion = criterion.to(device)\r\n",
        "\r\n",
        "EPOCHS = 10\r\n",
        "\r\n",
        "SSD_CIFAR_loss = []\r\n",
        "SSD_CIFAR_acc = []\r\n",
        "\r\n",
        "best_valid_loss = float('inf')\r\n",
        "\r\n",
        "for epoch in range(EPOCHS):\r\n",
        "    \r\n",
        "    start_time = time.monotonic()\r\n",
        "    \r\n",
        "    train_loss, train_acc = train(model, train_iterator_CIFAR, optimizer, criterion, device)\r\n",
        "    valid_loss, valid_acc = evaluate(model, valid_iterator_CIFAR, criterion, device)\r\n",
        "\r\n",
        "    SSD_CIFAR_loss.append(train_loss)\r\n",
        "    SSD_CIFAR_acc.append(train_acc)\r\n",
        "    \r\n",
        "    if valid_loss < best_valid_loss:\r\n",
        "        best_valid_loss = valid_loss\r\n",
        "        torch.save(model.state_dict(), 'SSD_model_CIFAR.pt')\r\n",
        "    \r\n",
        "    end_time = time.monotonic()\r\n",
        "\r\n",
        "    epoch_mins, epoch_secs = epoch_time(start_time, end_time)\r\n",
        "    \r\n",
        "    print(f'Epoch: {epoch+1:02} | Epoch Time: {epoch_mins}m {epoch_secs}s')\r\n",
        "    print(f'\\tTrain Loss: {train_loss:.3f} | Train Acc: {train_acc*100:.2f}%')\r\n",
        "    print(f'\\t Val. Loss: {valid_loss:.3f} |  Val. Acc: {valid_acc*100:.2f}%')"
      ],
      "outputs": [
        {
          "output_type": "stream",
          "name": "stdout",
          "text": [
            "Epoch: 01 | Epoch Time: 1m 29s\n",
            "\tTrain Loss: 1.970 | Train Acc: 33.60%\n",
            "\t Val. Loss: 1.917 |  Val. Acc: 38.69%\n",
            "Epoch: 02 | Epoch Time: 1m 30s\n",
            "\tTrain Loss: 1.825 | Train Acc: 38.84%\n",
            "\t Val. Loss: 1.956 |  Val. Acc: 39.95%\n",
            "Epoch: 03 | Epoch Time: 1m 32s\n",
            "\tTrain Loss: 1.794 | Train Acc: 40.14%\n",
            "\t Val. Loss: 1.814 |  Val. Acc: 40.90%\n",
            "Epoch: 04 | Epoch Time: 1m 37s\n",
            "\tTrain Loss: 1.768 | Train Acc: 41.17%\n",
            "\t Val. Loss: 1.802 |  Val. Acc: 42.78%\n",
            "Epoch: 05 | Epoch Time: 1m 34s\n",
            "\tTrain Loss: 1.736 | Train Acc: 42.42%\n",
            "\t Val. Loss: 1.854 |  Val. Acc: 39.62%\n",
            "Epoch: 06 | Epoch Time: 1m 29s\n",
            "\tTrain Loss: 1.716 | Train Acc: 42.75%\n",
            "\t Val. Loss: 1.743 |  Val. Acc: 42.64%\n",
            "Epoch: 07 | Epoch Time: 1m 34s\n",
            "\tTrain Loss: 1.699 | Train Acc: 43.58%\n",
            "\t Val. Loss: 1.832 |  Val. Acc: 41.53%\n",
            "Epoch: 08 | Epoch Time: 1m 54s\n",
            "\tTrain Loss: 1.691 | Train Acc: 43.87%\n",
            "\t Val. Loss: 1.827 |  Val. Acc: 41.36%\n",
            "Epoch: 09 | Epoch Time: 2m 36s\n",
            "\tTrain Loss: 1.678 | Train Acc: 44.32%\n",
            "\t Val. Loss: 1.808 |  Val. Acc: 43.79%\n",
            "Epoch: 10 | Epoch Time: 2m 44s\n",
            "\tTrain Loss: 1.674 | Train Acc: 44.58%\n",
            "\t Val. Loss: 2.100 |  Val. Acc: 39.91%\n"
          ]
        }
      ],
      "metadata": {
        "id": "_eHpH2JG2O1-"
      }
    },
    {
      "cell_type": "markdown",
      "source": [
        "### Testing SourceSkipDN on CIFAR"
      ],
      "metadata": {
        "id": "2DrIzaxF2O1_"
      }
    },
    {
      "cell_type": "code",
      "execution_count": 95,
      "source": [
        "model.load_state_dict(torch.load('SSD_model_CIFAR.pt'))\r\n",
        "\r\n",
        "test_loss, test_acc = evaluate(model, test_iterator_CIFAR, criterion, device)\r\n",
        "CIFAR_test_loss.append(test_loss)\r\n",
        "CIFAR_test_acc.append(test_acc)"
      ],
      "outputs": [],
      "metadata": {
        "id": "MTxr1tBK2O1_"
      }
    },
    {
      "cell_type": "code",
      "execution_count": 96,
      "source": [
        "print(f'Test Loss: {test_loss:.3f} | Test Acc: {test_acc*100:.2f}%')"
      ],
      "outputs": [
        {
          "output_type": "stream",
          "name": "stdout",
          "text": [
            "Test Loss: 1.710 | Test Acc: 43.75%\n"
          ]
        }
      ],
      "metadata": {
        "id": "q6DgaDHf2O2A"
      }
    },
    {
      "cell_type": "markdown",
      "source": [
        "### Training FullSkipDN on CIFAR-10"
      ],
      "metadata": {
        "id": "npJQfWdH2O2B"
      }
    },
    {
      "cell_type": "code",
      "execution_count": 97,
      "source": [
        "INPUT_DIM = 32 * 32 * 3\r\n",
        "OUTPUT_DIM = 10\r\n",
        "\r\n",
        "model = FullSkipDN(INPUT_DIM, OUTPUT_DIM)"
      ],
      "outputs": [],
      "metadata": {
        "id": "yPfv0OGv2O2B"
      }
    },
    {
      "cell_type": "code",
      "execution_count": 98,
      "source": [
        "optimizer = optim.Adam(model.parameters())\r\n",
        "criterion = nn.CrossEntropyLoss()\r\n",
        "device = torch.device('cuda' if torch.cuda.is_available() else 'cpu')\r\n",
        "model = model.to(device)\r\n",
        "criterion = criterion.to(device)\r\n",
        "\r\n",
        "EPOCHS = 10\r\n",
        "\r\n",
        "FSD_CIFAR_loss = []\r\n",
        "FSD_CIFAR_acc = []\r\n",
        "\r\n",
        "best_valid_loss = float('inf')\r\n",
        "\r\n",
        "for epoch in range(EPOCHS):\r\n",
        "    \r\n",
        "    start_time = time.monotonic()\r\n",
        "    \r\n",
        "    train_loss, train_acc = train(model, train_iterator_CIFAR, optimizer, criterion, device)\r\n",
        "    valid_loss, valid_acc = evaluate(model, valid_iterator_CIFAR, criterion, device)\r\n",
        "\r\n",
        "    FSD_CIFAR_loss.append(train_loss)\r\n",
        "    FSD_CIFAR_acc.append(train_acc)\r\n",
        "    \r\n",
        "    if valid_loss < best_valid_loss:\r\n",
        "        best_valid_loss = valid_loss\r\n",
        "        torch.save(model.state_dict(), 'FSD_model_CIFAR.pt')\r\n",
        "    \r\n",
        "    end_time = time.monotonic()\r\n",
        "\r\n",
        "    epoch_mins, epoch_secs = epoch_time(start_time, end_time)\r\n",
        "    \r\n",
        "    print(f'Epoch: {epoch+1:02} | Epoch Time: {epoch_mins}m {epoch_secs}s')\r\n",
        "    print(f'\\tTrain Loss: {train_loss:.3f} | Train Acc: {train_acc*100:.2f}%')\r\n",
        "    print(f'\\t Val. Loss: {valid_loss:.3f} |  Val. Acc: {valid_acc*100:.2f}%')"
      ],
      "outputs": [
        {
          "output_type": "stream",
          "name": "stdout",
          "text": [
            "Epoch: 01 | Epoch Time: 1m 45s\n",
            "\tTrain Loss: 1.990 | Train Acc: 34.89%\n",
            "\t Val. Loss: 1.956 |  Val. Acc: 38.13%\n",
            "Epoch: 02 | Epoch Time: 1m 54s\n",
            "\tTrain Loss: 1.863 | Train Acc: 39.49%\n",
            "\t Val. Loss: 1.900 |  Val. Acc: 39.64%\n",
            "Epoch: 03 | Epoch Time: 2m 21s\n",
            "\tTrain Loss: 1.807 | Train Acc: 41.35%\n",
            "\t Val. Loss: 2.077 |  Val. Acc: 38.88%\n",
            "Epoch: 04 | Epoch Time: 2m 53s\n",
            "\tTrain Loss: 1.782 | Train Acc: 42.53%\n",
            "\t Val. Loss: 2.191 |  Val. Acc: 39.77%\n",
            "Epoch: 05 | Epoch Time: 2m 44s\n",
            "\tTrain Loss: 1.748 | Train Acc: 43.38%\n",
            "\t Val. Loss: 1.932 |  Val. Acc: 41.42%\n",
            "Epoch: 06 | Epoch Time: 2m 25s\n",
            "\tTrain Loss: 1.730 | Train Acc: 43.87%\n",
            "\t Val. Loss: 1.940 |  Val. Acc: 41.48%\n",
            "Epoch: 07 | Epoch Time: 2m 36s\n",
            "\tTrain Loss: 1.722 | Train Acc: 44.73%\n",
            "\t Val. Loss: 2.095 |  Val. Acc: 41.67%\n",
            "Epoch: 08 | Epoch Time: 2m 48s\n",
            "\tTrain Loss: 1.699 | Train Acc: 45.70%\n",
            "\t Val. Loss: 2.138 |  Val. Acc: 41.52%\n",
            "Epoch: 09 | Epoch Time: 2m 46s\n",
            "\tTrain Loss: 1.680 | Train Acc: 45.75%\n",
            "\t Val. Loss: 2.166 |  Val. Acc: 39.48%\n",
            "Epoch: 10 | Epoch Time: 2m 43s\n",
            "\tTrain Loss: 1.697 | Train Acc: 46.00%\n",
            "\t Val. Loss: 2.130 |  Val. Acc: 40.51%\n"
          ]
        }
      ],
      "metadata": {
        "id": "SqvCJS4D2O2C"
      }
    },
    {
      "cell_type": "markdown",
      "source": [
        "### Testing FullSkipDN on CIFAR-10"
      ],
      "metadata": {
        "id": "P0JC3j0v2O2E"
      }
    },
    {
      "cell_type": "code",
      "execution_count": 99,
      "source": [
        "model.load_state_dict(torch.load('FSD_model_CIFAR.pt'))\r\n",
        "\r\n",
        "test_loss, test_acc = evaluate(model, test_iterator_CIFAR, criterion, device)\r\n",
        "CIFAR_test_loss.append(test_loss)\r\n",
        "CIFAR_test_acc.append(test_acc)"
      ],
      "outputs": [],
      "metadata": {
        "id": "xO2fiBuF2O2E"
      }
    },
    {
      "cell_type": "code",
      "execution_count": 100,
      "source": [
        "print(f'Test Loss: {test_loss:.3f} | Test Acc: {test_acc*100:.2f}%')"
      ],
      "outputs": [
        {
          "output_type": "stream",
          "name": "stdout",
          "text": [
            "Test Loss: 1.879 | Test Acc: 40.22%\n"
          ]
        }
      ],
      "metadata": {
        "id": "tZPQdh7N2O2E"
      }
    },
    {
      "cell_type": "markdown",
      "source": [
        "### Training OneSkipRN on CIFAR-10"
      ],
      "metadata": {
        "id": "VdYTGaf62O2E"
      }
    },
    {
      "cell_type": "code",
      "execution_count": 101,
      "source": [
        "INPUT_DIM = 32 * 32 * 3\r\n",
        "OUTPUT_DIM = 10\r\n",
        "\r\n",
        "model = OneSkipRN(INPUT_DIM, OUTPUT_DIM)"
      ],
      "outputs": [],
      "metadata": {
        "id": "DuIDoU5W2O2E"
      }
    },
    {
      "cell_type": "code",
      "execution_count": 102,
      "source": [
        "optimizer = optim.Adam(model.parameters())\r\n",
        "criterion = nn.CrossEntropyLoss()\r\n",
        "device = torch.device('cuda' if torch.cuda.is_available() else 'cpu')\r\n",
        "model = model.to(device)\r\n",
        "criterion = criterion.to(device)\r\n",
        "\r\n",
        "EPOCHS = 10\r\n",
        "\r\n",
        "OSR_CIFAR_loss = []\r\n",
        "OSR_CIFAR_acc = []\r\n",
        "\r\n",
        "best_valid_loss = float('inf')\r\n",
        "\r\n",
        "for epoch in range(EPOCHS):\r\n",
        "    \r\n",
        "    start_time = time.monotonic()\r\n",
        "    \r\n",
        "    train_loss, train_acc = train(model, train_iterator_CIFAR, optimizer, criterion, device)\r\n",
        "    valid_loss, valid_acc = evaluate(model, valid_iterator_CIFAR, criterion, device)\r\n",
        "\r\n",
        "    OSR_CIFAR_loss.append(train_loss)\r\n",
        "    OSR_CIFAR_acc.append(train_acc)\r\n",
        "    \r\n",
        "    if valid_loss < best_valid_loss:\r\n",
        "        best_valid_loss = valid_loss\r\n",
        "        torch.save(model.state_dict(), 'OSR_model_CIFAR.pt')\r\n",
        "    \r\n",
        "    end_time = time.monotonic()\r\n",
        "\r\n",
        "    epoch_mins, epoch_secs = epoch_time(start_time, end_time)\r\n",
        "    \r\n",
        "    print(f'Epoch: {epoch+1:02} | Epoch Time: {epoch_mins}m {epoch_secs}s')\r\n",
        "    print(f'\\tTrain Loss: {train_loss:.3f} | Train Acc: {train_acc*100:.2f}%')\r\n",
        "    print(f'\\t Val. Loss: {valid_loss:.3f} |  Val. Acc: {valid_acc*100:.2f}%')"
      ],
      "outputs": [
        {
          "output_type": "stream",
          "name": "stdout",
          "text": [
            "Epoch: 01 | Epoch Time: 0m 30s\n",
            "\tTrain Loss: 1.916 | Train Acc: 26.64%\n",
            "\t Val. Loss: 1.835 |  Val. Acc: 32.42%\n",
            "Epoch: 02 | Epoch Time: 0m 31s\n",
            "\tTrain Loss: 1.741 | Train Acc: 34.94%\n",
            "\t Val. Loss: 1.706 |  Val. Acc: 37.46%\n",
            "Epoch: 03 | Epoch Time: 0m 32s\n",
            "\tTrain Loss: 1.647 | Train Acc: 39.90%\n",
            "\t Val. Loss: 1.635 |  Val. Acc: 40.98%\n",
            "Epoch: 04 | Epoch Time: 0m 32s\n",
            "\tTrain Loss: 1.582 | Train Acc: 43.00%\n",
            "\t Val. Loss: 1.555 |  Val. Acc: 44.09%\n",
            "Epoch: 05 | Epoch Time: 0m 32s\n",
            "\tTrain Loss: 1.539 | Train Acc: 44.64%\n",
            "\t Val. Loss: 1.563 |  Val. Acc: 43.95%\n",
            "Epoch: 06 | Epoch Time: 0m 32s\n",
            "\tTrain Loss: 1.499 | Train Acc: 46.12%\n",
            "\t Val. Loss: 1.532 |  Val. Acc: 44.94%\n",
            "Epoch: 07 | Epoch Time: 0m 32s\n",
            "\tTrain Loss: 1.469 | Train Acc: 47.46%\n",
            "\t Val. Loss: 1.485 |  Val. Acc: 47.07%\n",
            "Epoch: 08 | Epoch Time: 0m 32s\n",
            "\tTrain Loss: 1.446 | Train Acc: 48.02%\n",
            "\t Val. Loss: 1.497 |  Val. Acc: 47.01%\n",
            "Epoch: 09 | Epoch Time: 0m 36s\n",
            "\tTrain Loss: 1.421 | Train Acc: 49.07%\n",
            "\t Val. Loss: 1.450 |  Val. Acc: 48.56%\n",
            "Epoch: 10 | Epoch Time: 0m 31s\n",
            "\tTrain Loss: 1.405 | Train Acc: 49.67%\n",
            "\t Val. Loss: 1.432 |  Val. Acc: 50.04%\n"
          ]
        }
      ],
      "metadata": {
        "colab": {
          "base_uri": "https://localhost:8080/"
        },
        "id": "JqNRuEIE2O2F",
        "outputId": "737619e3-11e4-4582-de66-19d0ed6c4ce1"
      }
    },
    {
      "cell_type": "markdown",
      "source": [
        "### Testing OneSkipRN on CIFAR-10"
      ],
      "metadata": {
        "id": "In1r_ddO2O2F"
      }
    },
    {
      "cell_type": "code",
      "execution_count": 103,
      "source": [
        "model.load_state_dict(torch.load('OSR_model_CIFAR.pt'))\r\n",
        "\r\n",
        "test_loss, test_acc = evaluate(model, test_iterator_CIFAR, criterion, device)\r\n",
        "CIFAR_test_loss.append(test_loss)\r\n",
        "CIFAR_test_acc.append(test_acc)"
      ],
      "outputs": [],
      "metadata": {
        "id": "Yrku0WQ62O2F"
      }
    },
    {
      "cell_type": "code",
      "execution_count": 104,
      "source": [
        "print(f'Test Loss: {test_loss:.3f} | Test Acc: {test_acc*100:.2f}%')"
      ],
      "outputs": [
        {
          "output_type": "stream",
          "name": "stdout",
          "text": [
            "Test Loss: 1.396 | Test Acc: 51.22%\n"
          ]
        }
      ],
      "metadata": {
        "colab": {
          "base_uri": "https://localhost:8080/"
        },
        "id": "n3l3ONeY2O2F",
        "outputId": "251671fd-13ce-4dac-ad29-1cfa15bfa33d"
      }
    },
    {
      "cell_type": "markdown",
      "source": [
        "### Training SourceSkipRN on CIFAR-10"
      ],
      "metadata": {
        "id": "XSmyJWaN2O2F"
      }
    },
    {
      "cell_type": "code",
      "execution_count": 105,
      "source": [
        "INPUT_DIM = 32 * 32 * 3\r\n",
        "OUTPUT_DIM = 10\r\n",
        "\r\n",
        "model = SourceSkipRN(INPUT_DIM, OUTPUT_DIM)"
      ],
      "outputs": [],
      "metadata": {
        "id": "AzeEAtYS2O2F"
      }
    },
    {
      "cell_type": "code",
      "execution_count": 106,
      "source": [
        "optimizer = optim.Adam(model.parameters())\r\n",
        "criterion = nn.CrossEntropyLoss()\r\n",
        "device = torch.device('cuda' if torch.cuda.is_available() else 'cpu')\r\n",
        "model = model.to(device)\r\n",
        "criterion = criterion.to(device)\r\n",
        "\r\n",
        "EPOCHS = 10\r\n",
        "\r\n",
        "SSR_CIFAR_loss = []\r\n",
        "SSR_CIFAR_acc = []\r\n",
        "\r\n",
        "best_valid_loss = float('inf')\r\n",
        "\r\n",
        "for epoch in range(EPOCHS):\r\n",
        "    \r\n",
        "    start_time = time.monotonic()\r\n",
        "    \r\n",
        "    train_loss, train_acc = train(model, train_iterator_CIFAR, optimizer, criterion, device)\r\n",
        "    valid_loss, valid_acc = evaluate(model, valid_iterator_CIFAR, criterion, device)\r\n",
        "\r\n",
        "    SSR_CIFAR_loss.append(train_loss)\r\n",
        "    SSR_CIFAR_acc.append(train_acc)\r\n",
        "    \r\n",
        "    if valid_loss < best_valid_loss:\r\n",
        "        best_valid_loss = valid_loss\r\n",
        "        torch.save(model.state_dict(), 'SSR_model_CIFAR.pt')\r\n",
        "    \r\n",
        "    end_time = time.monotonic()\r\n",
        "\r\n",
        "    epoch_mins, epoch_secs = epoch_time(start_time, end_time)\r\n",
        "    \r\n",
        "    print(f'Epoch: {epoch+1:02} | Epoch Time: {epoch_mins}m {epoch_secs}s')\r\n",
        "    print(f'\\tTrain Loss: {train_loss:.3f} | Train Acc: {train_acc*100:.2f}%')\r\n",
        "    print(f'\\t Val. Loss: {valid_loss:.3f} |  Val. Acc: {valid_acc*100:.2f}%')"
      ],
      "outputs": [
        {
          "output_type": "stream",
          "name": "stdout",
          "text": [
            "Epoch: 01 | Epoch Time: 0m 26s\n",
            "\tTrain Loss: 1.771 | Train Acc: 37.41%\n",
            "\t Val. Loss: 1.733 |  Val. Acc: 40.84%\n",
            "Epoch: 02 | Epoch Time: 0m 30s\n",
            "\tTrain Loss: 1.601 | Train Acc: 43.32%\n",
            "\t Val. Loss: 1.720 |  Val. Acc: 42.86%\n",
            "Epoch: 03 | Epoch Time: 0m 30s\n",
            "\tTrain Loss: 1.538 | Train Acc: 45.43%\n",
            "\t Val. Loss: 1.709 |  Val. Acc: 41.75%\n",
            "Epoch: 04 | Epoch Time: 0m 30s\n",
            "\tTrain Loss: 1.505 | Train Acc: 46.37%\n",
            "\t Val. Loss: 1.624 |  Val. Acc: 46.32%\n",
            "Epoch: 05 | Epoch Time: 0m 30s\n",
            "\tTrain Loss: 1.475 | Train Acc: 47.50%\n",
            "\t Val. Loss: 1.628 |  Val. Acc: 45.79%\n",
            "Epoch: 06 | Epoch Time: 0m 30s\n",
            "\tTrain Loss: 1.450 | Train Acc: 48.48%\n",
            "\t Val. Loss: 1.631 |  Val. Acc: 45.83%\n",
            "Epoch: 07 | Epoch Time: 0m 30s\n",
            "\tTrain Loss: 1.435 | Train Acc: 48.91%\n",
            "\t Val. Loss: 1.609 |  Val. Acc: 45.31%\n",
            "Epoch: 08 | Epoch Time: 0m 28s\n",
            "\tTrain Loss: 1.422 | Train Acc: 49.22%\n",
            "\t Val. Loss: 1.648 |  Val. Acc: 45.75%\n",
            "Epoch: 09 | Epoch Time: 0m 28s\n",
            "\tTrain Loss: 1.403 | Train Acc: 50.11%\n",
            "\t Val. Loss: 1.606 |  Val. Acc: 47.05%\n",
            "Epoch: 10 | Epoch Time: 0m 29s\n",
            "\tTrain Loss: 1.392 | Train Acc: 50.43%\n",
            "\t Val. Loss: 1.684 |  Val. Acc: 45.77%\n"
          ]
        }
      ],
      "metadata": {
        "id": "DS9t8qhP2O2F"
      }
    },
    {
      "cell_type": "markdown",
      "source": [
        "### Testing SourceSkipRN on CIFAR-10"
      ],
      "metadata": {
        "id": "GZrf625j2O2G"
      }
    },
    {
      "cell_type": "code",
      "execution_count": 107,
      "source": [
        "model.load_state_dict(torch.load('SSR_model_CIFAR.pt'))\r\n",
        "\r\n",
        "test_loss, test_acc = evaluate(model, test_iterator_CIFAR, criterion, device)\r\n",
        "CIFAR_test_loss.append(test_loss)\r\n",
        "CIFAR_test_acc.append(test_acc)"
      ],
      "outputs": [],
      "metadata": {
        "id": "2Jm2BK992O2G"
      }
    },
    {
      "cell_type": "code",
      "execution_count": 108,
      "source": [
        "print(f'Test Loss: {test_loss:.3f} | Test Acc: {test_acc*100:.2f}%')"
      ],
      "outputs": [
        {
          "output_type": "stream",
          "name": "stdout",
          "text": [
            "Test Loss: 1.590 | Test Acc: 47.20%\n"
          ]
        }
      ],
      "metadata": {
        "id": "8_wRUIew2O2G"
      }
    },
    {
      "cell_type": "markdown",
      "source": [
        "### Training FullSkipRN on CIFAR-10"
      ],
      "metadata": {
        "id": "s8oHvlY72O2G"
      }
    },
    {
      "cell_type": "code",
      "execution_count": 109,
      "source": [
        "INPUT_DIM = 32 * 32 * 3\r\n",
        "OUTPUT_DIM = 10\r\n",
        "\r\n",
        "model = FullSkipRN(INPUT_DIM, OUTPUT_DIM)"
      ],
      "outputs": [],
      "metadata": {
        "id": "cKt5zi5n2O2G"
      }
    },
    {
      "cell_type": "code",
      "execution_count": 110,
      "source": [
        "optimizer = optim.Adam(model.parameters())\r\n",
        "criterion = nn.CrossEntropyLoss()\r\n",
        "device = torch.device('cuda' if torch.cuda.is_available() else 'cpu')\r\n",
        "model = model.to(device)\r\n",
        "criterion = criterion.to(device)\r\n",
        "\r\n",
        "EPOCHS = 10\r\n",
        "\r\n",
        "FSR_CIFAR_loss = []\r\n",
        "FSR_CIFAR_acc = []\r\n",
        "\r\n",
        "best_valid_loss = float('inf')\r\n",
        "\r\n",
        "for epoch in range(EPOCHS):\r\n",
        "    \r\n",
        "    start_time = time.monotonic()\r\n",
        "    \r\n",
        "    train_loss, train_acc = train(model, train_iterator_CIFAR, optimizer, criterion, device)\r\n",
        "    valid_loss, valid_acc = evaluate(model, valid_iterator_CIFAR, criterion, device)\r\n",
        "\r\n",
        "    FSR_CIFAR_loss.append(train_loss)\r\n",
        "    FSR_CIFAR_acc.append(train_acc)\r\n",
        "\r\n",
        "    if valid_loss < best_valid_loss:\r\n",
        "        best_valid_loss = valid_loss\r\n",
        "        torch.save(model.state_dict(), 'FSR_model_CIFAR.pt')\r\n",
        "    \r\n",
        "    end_time = time.monotonic()\r\n",
        "\r\n",
        "    epoch_mins, epoch_secs = epoch_time(start_time, end_time)\r\n",
        "    \r\n",
        "    print(f'Epoch: {epoch+1:02} | Epoch Time: {epoch_mins}m {epoch_secs}s')\r\n",
        "    print(f'\\tTrain Loss: {train_loss:.3f} | Train Acc: {train_acc*100:.2f}%')\r\n",
        "    print(f'\\t Val. Loss: {valid_loss:.3f} |  Val. Acc: {valid_acc*100:.2f}%')"
      ],
      "outputs": [
        {
          "output_type": "stream",
          "name": "stdout",
          "text": [
            "Epoch: 01 | Epoch Time: 0m 28s\n",
            "\tTrain Loss: 1.878 | Train Acc: 33.50%\n",
            "\t Val. Loss: 1.812 |  Val. Acc: 38.96%\n",
            "Epoch: 02 | Epoch Time: 0m 29s\n",
            "\tTrain Loss: 1.641 | Train Acc: 41.33%\n",
            "\t Val. Loss: 1.715 |  Val. Acc: 41.91%\n",
            "Epoch: 03 | Epoch Time: 0m 29s\n",
            "\tTrain Loss: 1.565 | Train Acc: 44.21%\n",
            "\t Val. Loss: 1.667 |  Val. Acc: 42.58%\n",
            "Epoch: 04 | Epoch Time: 0m 29s\n",
            "\tTrain Loss: 1.516 | Train Acc: 46.12%\n",
            "\t Val. Loss: 1.618 |  Val. Acc: 44.52%\n",
            "Epoch: 05 | Epoch Time: 0m 29s\n",
            "\tTrain Loss: 1.483 | Train Acc: 46.96%\n",
            "\t Val. Loss: 1.624 |  Val. Acc: 44.07%\n",
            "Epoch: 06 | Epoch Time: 0m 34s\n",
            "\tTrain Loss: 1.457 | Train Acc: 47.81%\n",
            "\t Val. Loss: 1.653 |  Val. Acc: 44.13%\n",
            "Epoch: 07 | Epoch Time: 0m 32s\n",
            "\tTrain Loss: 1.434 | Train Acc: 48.84%\n",
            "\t Val. Loss: 1.697 |  Val. Acc: 43.79%\n",
            "Epoch: 08 | Epoch Time: 0m 30s\n",
            "\tTrain Loss: 1.418 | Train Acc: 49.35%\n",
            "\t Val. Loss: 1.648 |  Val. Acc: 43.35%\n",
            "Epoch: 09 | Epoch Time: 0m 31s\n",
            "\tTrain Loss: 1.391 | Train Acc: 50.22%\n",
            "\t Val. Loss: 1.710 |  Val. Acc: 43.67%\n",
            "Epoch: 10 | Epoch Time: 0m 30s\n",
            "\tTrain Loss: 1.385 | Train Acc: 50.48%\n",
            "\t Val. Loss: 1.644 |  Val. Acc: 45.21%\n"
          ]
        }
      ],
      "metadata": {
        "id": "rcfz1oDy2O2G"
      }
    },
    {
      "cell_type": "markdown",
      "source": [
        "### Testing FullSkipRN on CIFAR-10"
      ],
      "metadata": {
        "id": "tK5uUXHQ2O2G"
      }
    },
    {
      "cell_type": "code",
      "execution_count": 111,
      "source": [
        "model.load_state_dict(torch.load('FSR_model_CIFAR.pt'))\r\n",
        "\r\n",
        "test_loss, test_acc = evaluate(model, test_iterator_CIFAR, criterion, device)\r\n",
        "CIFAR_test_loss.append(test_loss)\r\n",
        "CIFAR_test_acc.append(test_acc)"
      ],
      "outputs": [],
      "metadata": {
        "id": "2SRSw_xg2O2G"
      }
    },
    {
      "cell_type": "code",
      "execution_count": 112,
      "source": [
        "print(f'Test Loss: {test_loss:.3f} | Test Acc: {test_acc*100:.2f}%')"
      ],
      "outputs": [
        {
          "output_type": "stream",
          "name": "stdout",
          "text": [
            "Test Loss: 1.577 | Test Acc: 45.09%\n"
          ]
        }
      ],
      "metadata": {
        "id": "o-8O-qPP2O2G"
      }
    },
    {
      "cell_type": "markdown",
      "source": [
        "### Analysis and Inferences"
      ],
      "metadata": {
        "id": "6O-dvT8DR1WW"
      }
    },
    {
      "cell_type": "code",
      "execution_count": 113,
      "source": [
        "CIFAR_train_acc = [MLP_CIFAR_acc, OSD_CIFAR_acc, SSD_CIFAR_acc, FSD_CIFAR_acc, OSR_CIFAR_acc, SSR_CIFAR_acc, FSR_CIFAR_acc]\r\n",
        "CIFAR_train_loss = [MLP_CIFAR_loss, OSD_CIFAR_loss, SSD_CIFAR_loss, FSD_CIFAR_loss, OSR_CIFAR_loss, SSR_CIFAR_loss, FSR_CIFAR_loss]\r\n",
        "\r\n",
        "CIFAR_legends = ['MLP', 'OneSkipDN', 'SourceSkipDN', 'FullSkipDN', 'OneSkipRN', 'SourceSkipRN', 'FullSkipRN']\r\n",
        "\r\n",
        "for i,acc in enumerate(CIFAR_train_acc):\r\n",
        "    plt.plot(acc, label=CIFAR_legends[i])\r\n",
        "plt.xlabel('Epoch')\r\n",
        "plt.ylabel('accuracy')\r\n",
        "plt.legend()\r\n",
        "plt.show()\r\n",
        "\r\n",
        "for i,acc in enumerate(CIFAR_train_loss):\r\n",
        "    plt.plot(acc, label=CIFAR_legends[i])\r\n",
        "plt.xlabel('Epoch')\r\n",
        "plt.ylabel('loss')\r\n",
        "plt.legend()\r\n",
        "plt.show()"
      ],
      "outputs": [
        {
          "output_type": "display_data",
          "data": {
            "image/png": "[encoded data removed]",
            "text/plain": [
              "<Figure size 432x288 with 1 Axes>"
            ]
          },
          "metadata": {
            "needs_background": "light"
          }
        },
        {
          "output_type": "display_data",
          "data": {
            "image/png": "[encoded data removed]",
            "text/plain": [
              "<Figure size 432x288 with 1 Axes>"
            ]
          },
          "metadata": {
            "needs_background": "light"
          }
        }
      ],
      "metadata": {
        "colab": {
          "base_uri": "https://localhost:8080/",
          "height": 181
        },
        "id": "EkXRXv5gR3he",
        "outputId": "9b309896-e994-4d35-de17-f75e4c7a91b8"
      }
    },
    {
      "cell_type": "code",
      "execution_count": 124,
      "source": [
        "plt.figure(1, figsize=(7,10))\r\n",
        "plt.scatter(CIFAR_test_acc, CIFAR_test_loss)\r\n",
        "plt.ylabel('loss')\r\n",
        "plt.xlabel('accuracy')\r\n",
        "for i,lab in enumerate(CIFAR_legends):\r\n",
        "    plt.annotate(lab, (CIFAR_test_acc[i], CIFAR_test_loss[i]))\r\n",
        "plt.show()"
      ],
      "outputs": [
        {
          "output_type": "display_data",
          "data": {
            "image/png": "[encoded data removed]",
            "text/plain": [
              "<Figure size 504x720 with 1 Axes>"
            ]
          },
          "metadata": {
            "needs_background": "light"
          }
        }
      ],
      "metadata": {}
    },
    {
      "cell_type": "markdown",
      "source": [
        "#### Inferences\r\n",
        "For the CIFAR-10 dataset, mlp is not the worst network. FullSkipDN has the worst performance. This is because, there overfitting of dataset in 16 layers. Since FullSkipDN has the largest size, it shows the biggest case of overfitting. For the same reason, we see One-Skip networks perform the best because a single skip means it skips intermediate layers that overfit.\r\n",
        "\r\n",
        "The overall performance in poor (<=50% accuracy). The best performance is given when the number of layers are between 7-9."
      ],
      "metadata": {}
    },
    {
      "cell_type": "markdown",
      "source": [
        "### Conclusion\r\n",
        "From our experiments we can conclude the following:\r\n",
        "- For less number of layers (3-5), MLP shows better performance than SkipNets. We believe this is because for less layers there is no effect of vanishing gradient which is solved by ResNets.\r\n",
        "- For data with less features, bigger skip networks give better result as shown in MNIST.\r\n",
        "- For data with many features, there is a chance for overfitting since unnecessary features are learned by the network. In such cases, skip connections work significantly better because in prominent features learned early are propagated to next layers by skips."
      ],
      "metadata": {}
    },
    {
      "cell_type": "markdown",
      "source": [
        "### Appendix\r\n",
        "\r\n",
        "References: \r\n",
        "- [All you need to know about Skip Connections](https://www.analyticsvidhya.com/blog/2021/08/all-you-need-to-know-about-skip-connections/)\r\n",
        "- [Skip Connections Intuition](https://theaisummer.com/skip-connections/)\r\n",
        "\r\n",
        "Team:\r\n",
        "- Rochishnu Banerjee - 2018A7PS0140G  \r\n",
        "Develop the MLP and Skip Connection models.  \r\n",
        "Plot the graphs and, inferences and draw conclusions.  \r\n",
        "Perform ablation studies with different number of layers, features and loss function\r\n",
        "- Saurabh Wadhekar - 2018A7PS0157G  \r\n",
        "Prepare the Datasets  \r\n",
        "Training and Testing models for both datasets  \r\n",
        "- Prashanth Sreenivasan - 2018A7PS0160G  \r\n",
        "Preparing the notebook\r\n",
        "\r\n",
        "Github:  \r\n",
        "Repository for trained models : [Github](https://github.com/rochishnub/Skip-Connections)"
      ],
      "metadata": {
        "id": "pfZg0Y2o4PAC"
      }
    },
    {
      "cell_type": "markdown",
      "source": [],
      "metadata": {}
    }
  ]
}